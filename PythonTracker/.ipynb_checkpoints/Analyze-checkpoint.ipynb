{
 "cells": [
  {
   "cell_type": "markdown",
   "id": "0459e81a-f424-4f7e-8ae1-72441e8093b4",
   "metadata": {},
   "source": [
    "# Calculo de las metricas de un json"
   ]
  },
  {
   "cell_type": "code",
   "execution_count": 1,
   "id": "fe5effb5-fe6b-4c27-8a1f-216aa6f1cd0e",
   "metadata": {},
   "outputs": [],
   "source": [
    "class Game():\n",
    "    \"\"\"Almacena informacion sobre una partida:\n",
    "    - When the level starts and ends and its lenght\n",
    "    - The event result\n",
    "    - Player deaths during this level\n",
    "    \"\"\"\n",
    "    def __init__(self, id, tsStart):\n",
    "        \"\"\"Constructor\n",
    "        \"\"\"\n",
    "        self.id = id\n",
    "        self.tsLevelStart = tsStart\n",
    "        self.levelLengthMs = 0\n",
    "        self.shields = 0    \n",
    "        self.deaths = 0\n",
    "\n",
    "    def addDeath(self):\n",
    "        self.deaths += 1\n",
    "    \n",
    "    def addShield(self):\n",
    "        self.shields += 1\n",
    "\n",
    "    def calculateTime (self, endTime):\n",
    "        self.levelLengthMs = endTime - self.tsLevelStart\n"
   ]
  },
  {
   "cell_type": "markdown",
   "id": "61276248-64d2-45bc-8acb-8655716a3ae1",
   "metadata": {},
   "source": [
    "### Importacion de las librerias necesarias"
   ]
  },
  {
   "cell_type": "code",
   "execution_count": 2,
   "id": "d2f5fa59-3ab9-4c8f-b5fc-c394622d87c4",
   "metadata": {},
   "outputs": [],
   "source": [
    "import os\n",
    "import json\n",
    "import pandas as pd\n",
    "import numpy as np\n",
    "import matplotlib.pyplot as plt"
   ]
  },
  {
   "cell_type": "markdown",
   "id": "e2af12c0-e9f1-4538-95e2-399f449cc2e2",
   "metadata": {},
   "source": [
    "### Lectura del documento"
   ]
  },
  {
   "cell_type": "code",
   "execution_count": 3,
   "id": "67caf712-2d19-49dc-a10a-951037f42680",
   "metadata": {},
   "outputs": [],
   "source": [
    "# Ruta de los archivos con los datos obtenidos por el \"Tracking system\"\n",
    "path = '.'"
   ]
  },
  {
   "cell_type": "code",
   "execution_count": 4,
   "id": "c8c3fdad-e051-4376-a631-15348b1e24c0",
   "metadata": {},
   "outputs": [],
   "source": [
    "def loadJsonData(path):\n",
    "    jsonData = []\n",
    "    \n",
    "    # Obtener lista de archivos en la carpeta\n",
    "    jsonFiles = os.listdir(path)\n",
    "    \n",
    "    # Recorrer y filtrar solo los archivos JSON\n",
    "    for file in jsonFiles:\n",
    "        if file.endswith('.json'):\n",
    "            ruta_archivo = os.path.join(path, file)\n",
    "            \n",
    "            # Leer el contenido del archivo JSON\n",
    "            with open(ruta_archivo, 'r', encoding='utf-8') as f:\n",
    "                info = json.load(f)\n",
    "                jsonData.extend(info)\n",
    "    \n",
    "    return jsonData"
   ]
  },
  {
   "cell_type": "code",
   "execution_count": 5,
   "id": "8eab897f-12bc-4b03-9b61-0f2299c2b591",
   "metadata": {},
   "outputs": [
    {
     "data": {
      "text/plain": [
       "[{'id': '6e1513609ec6380eb6c8d5f796c6685ba6daf9a9087202eda36801cbd6ba1511',\n",
       "  'idLevel': 0,\n",
       "  'idSession': '6e1513609ec6380eb6c8d5f796c6685ba6daf9a9087202eda36801cbd6ba1511',\n",
       "  'idUser': 'af25df128a73a551a6b6bc574d3f165f',\n",
       "  'timestamp': 1718647428,\n",
       "  'typeEvent': 'LoginEvent'},\n",
       " {'id': '5ac53c864fbd8a48b33f3aad4432f54e45c9a18bb381d5eff04b4ed5cfa9c0f5',\n",
       "  'idLevel': 0,\n",
       "  'idSession': '6e1513609ec6380eb6c8d5f796c6685ba6daf9a9087202eda36801cbd6ba1511',\n",
       "  'idUser': 'af25df128a73a551a6b6bc574d3f165f',\n",
       "  'timestamp': 1718647456,\n",
       "  'typeEvent': 'StartGameEvent'},\n",
       " {'id': 'bbd6493f6293db07f60042dc39c3ee45aa6710bd4763a5ee4ab8ba92a9b0a19f',\n",
       "  'idLevel': 0,\n",
       "  'idSession': '6e1513609ec6380eb6c8d5f796c6685ba6daf9a9087202eda36801cbd6ba1511',\n",
       "  'idUser': 'af25df128a73a551a6b6bc574d3f165f',\n",
       "  'timestamp': 1718647459,\n",
       "  'typeEvent': 'DeathEvent'},\n",
       " {'id': 'b44efe350053f2e3b70a8a4b740160bfaf202da3956b7b5de815c98c0e93e835',\n",
       "  'idLevel': 0,\n",
       "  'idSession': '6e1513609ec6380eb6c8d5f796c6685ba6daf9a9087202eda36801cbd6ba1511',\n",
       "  'idUser': 'af25df128a73a551a6b6bc574d3f165f',\n",
       "  'timestamp': 1718647472,\n",
       "  'typeEvent': 'DeathEvent'},\n",
       " {'id': '8addebe377fc89a367f3b288eed28e69564d881345577543c6f879d483a7a64f',\n",
       "  'idLevel': 0,\n",
       "  'idSession': '6e1513609ec6380eb6c8d5f796c6685ba6daf9a9087202eda36801cbd6ba1511',\n",
       "  'idUser': 'af25df128a73a551a6b6bc574d3f165f',\n",
       "  'timestamp': 1718647619,\n",
       "  'typeEvent': 'LoseShieldEvent'},\n",
       " {'id': '8addebe377fc89a367f3b288eed28e69564d881345577543c6f879d483a7a64f',\n",
       "  'idLevel': 0,\n",
       "  'idSession': '6e1513609ec6380eb6c8d5f796c6685ba6daf9a9087202eda36801cbd6ba1511',\n",
       "  'idUser': 'af25df128a73a551a6b6bc574d3f165f',\n",
       "  'timestamp': 1718647619,\n",
       "  'typeEvent': 'EndGameEvent'},\n",
       " {'id': 'eba7f3cdfebd67f5d1a21496536fee276107077221b22804825474e8af713aee',\n",
       "  'idLevel': 0,\n",
       "  'idSession': '6e1513609ec6380eb6c8d5f796c6685ba6daf9a9087202eda36801cbd6ba1511',\n",
       "  'idUser': 'af25df128a73a551a6b6bc574d3f165f',\n",
       "  'timestamp': 1718647623,\n",
       "  'typeEvent': 'LogoutEvent'},\n",
       " {'id': 'df23ddfa7107781b124cc5d516cff6a03a54537be6763dd72d2c02e760eefe49',\n",
       "  'idLevel': 0,\n",
       "  'idSession': 'df23ddfa7107781b124cc5d516cff6a03a54537be6763dd72d2c02e760eefe49',\n",
       "  'idUser': 'af25df128a73a551a6b6bc574d3f165f',\n",
       "  'timestamp': 1718647672,\n",
       "  'typeEvent': 'LoginEvent'},\n",
       " {'id': '3adc344faf84380feb3974dd69aff86526de4329e33a4c42e4f664b387d410a0',\n",
       "  'idLevel': 0,\n",
       "  'idSession': 'df23ddfa7107781b124cc5d516cff6a03a54537be6763dd72d2c02e760eefe49',\n",
       "  'idUser': 'af25df128a73a551a6b6bc574d3f165f',\n",
       "  'timestamp': 1718647684,\n",
       "  'typeEvent': 'StartGameEvent'},\n",
       " {'id': '8fda4c3fcae87f1b92afef7c6edb5570402e6ac40bcf8ca6849ade3139c159d2',\n",
       "  'idLevel': 0,\n",
       "  'idSession': 'df23ddfa7107781b124cc5d516cff6a03a54537be6763dd72d2c02e760eefe49',\n",
       "  'idUser': 'af25df128a73a551a6b6bc574d3f165f',\n",
       "  'timestamp': 1718647690,\n",
       "  'typeEvent': 'LoseShieldEvent'},\n",
       " {'id': '818976e0850c8622000a4cfba20afce6ee34a42c6be226d7c1a40c97a2f7617c',\n",
       "  'idLevel': 0,\n",
       "  'idSession': 'df23ddfa7107781b124cc5d516cff6a03a54537be6763dd72d2c02e760eefe49',\n",
       "  'idUser': 'af25df128a73a551a6b6bc574d3f165f',\n",
       "  'timestamp': 1718647701,\n",
       "  'typeEvent': 'LoseShieldEvent'},\n",
       " {'id': '8ab81233afbe9c2e50aa49ab9a500379c35f01ee4ed78583d32d740ad22d7b78',\n",
       "  'idLevel': 0,\n",
       "  'idSession': 'df23ddfa7107781b124cc5d516cff6a03a54537be6763dd72d2c02e760eefe49',\n",
       "  'idUser': 'af25df128a73a551a6b6bc574d3f165f',\n",
       "  'timestamp': 1718647715,\n",
       "  'typeEvent': 'DeathEvent'},\n",
       " {'id': 'eefb51a363a86993084d2130be47e4f815598c395c8757065dfb02f81a6d14e2',\n",
       "  'idLevel': 0,\n",
       "  'idSession': 'df23ddfa7107781b124cc5d516cff6a03a54537be6763dd72d2c02e760eefe49',\n",
       "  'idUser': 'af25df128a73a551a6b6bc574d3f165f',\n",
       "  'timestamp': 1718647734,\n",
       "  'typeEvent': 'LoseShieldEvent'},\n",
       " {'id': '965fc6060c1214857065bdaa47da31e7d2d9948ffe60afca3486bf3bedf0bfd3',\n",
       "  'idLevel': 0,\n",
       "  'idSession': 'df23ddfa7107781b124cc5d516cff6a03a54537be6763dd72d2c02e760eefe49',\n",
       "  'idUser': 'af25df128a73a551a6b6bc574d3f165f',\n",
       "  'timestamp': 1718647748,\n",
       "  'typeEvent': 'LoseShieldEvent'},\n",
       " {'id': 'dec4092e27ff6925445e4a8d9d7f0b12e5be056b3408f053bd2d5fab9afb355b',\n",
       "  'idLevel': 0,\n",
       "  'idSession': 'df23ddfa7107781b124cc5d516cff6a03a54537be6763dd72d2c02e760eefe49',\n",
       "  'idUser': 'af25df128a73a551a6b6bc574d3f165f',\n",
       "  'timestamp': 1718647750,\n",
       "  'typeEvent': 'DeathEvent'},\n",
       " {'id': '6dd06bc3b055e0f40a16f37979effcf28cfd4eaa2d8ff7b3f480dec1f90c97bc',\n",
       "  'idLevel': 0,\n",
       "  'idSession': 'df23ddfa7107781b124cc5d516cff6a03a54537be6763dd72d2c02e760eefe49',\n",
       "  'idUser': 'af25df128a73a551a6b6bc574d3f165f',\n",
       "  'timestamp': 1718647762,\n",
       "  'typeEvent': 'LoseShieldEvent'},\n",
       " {'id': '963ed5a601808145c284866ef8a1162fed15e1934b80d5e0152a4e975b90420b',\n",
       "  'idLevel': 0,\n",
       "  'idSession': 'df23ddfa7107781b124cc5d516cff6a03a54537be6763dd72d2c02e760eefe49',\n",
       "  'idUser': 'af25df128a73a551a6b6bc574d3f165f',\n",
       "  'timestamp': 1718647766,\n",
       "  'typeEvent': 'DeathEvent'},\n",
       " {'id': '1fb174690b49d919c418fe514192c5cc85b00b1b7d43f138281d68d1c9f52678',\n",
       "  'idLevel': 0,\n",
       "  'idSession': 'df23ddfa7107781b124cc5d516cff6a03a54537be6763dd72d2c02e760eefe49',\n",
       "  'idUser': 'af25df128a73a551a6b6bc574d3f165f',\n",
       "  'timestamp': 1718647815,\n",
       "  'typeEvent': 'LoseShieldEvent'},\n",
       " {'id': '4e4be504f6edc46ee8000a4bf1ac2b0c7b18df219056195a0f8902bbb584f780',\n",
       "  'idLevel': 0,\n",
       "  'idSession': 'df23ddfa7107781b124cc5d516cff6a03a54537be6763dd72d2c02e760eefe49',\n",
       "  'idUser': 'af25df128a73a551a6b6bc574d3f165f',\n",
       "  'timestamp': 1718647853,\n",
       "  'typeEvent': 'LoseShieldEvent'},\n",
       " {'id': '71be8d9dfa270ae467b416cf50236c3597ee3ab19aa956d9fd37109e3812129f',\n",
       "  'idLevel': 0,\n",
       "  'idSession': 'df23ddfa7107781b124cc5d516cff6a03a54537be6763dd72d2c02e760eefe49',\n",
       "  'idUser': 'af25df128a73a551a6b6bc574d3f165f',\n",
       "  'timestamp': 1718647870,\n",
       "  'typeEvent': 'LoseShieldEvent'},\n",
       " {'id': '0623053d103f12bbd6a954a2a174adae3db1bdd080d7593bea80563c0cd1dc9d',\n",
       "  'idLevel': 0,\n",
       "  'idSession': 'df23ddfa7107781b124cc5d516cff6a03a54537be6763dd72d2c02e760eefe49',\n",
       "  'idUser': 'af25df128a73a551a6b6bc574d3f165f',\n",
       "  'timestamp': 1718647905,\n",
       "  'typeEvent': 'EndGameEvent'},\n",
       " {'id': 'aa9272cb30c7b64cd88b6a9c18f51cceedb447d559395cae05217fe2aad2d32b',\n",
       "  'idLevel': 0,\n",
       "  'idSession': 'df23ddfa7107781b124cc5d516cff6a03a54537be6763dd72d2c02e760eefe49',\n",
       "  'idUser': 'af25df128a73a551a6b6bc574d3f165f',\n",
       "  'timestamp': 1718647906,\n",
       "  'typeEvent': 'LogoutEvent'}]"
      ]
     },
     "execution_count": 5,
     "metadata": {},
     "output_type": "execute_result"
    }
   ],
   "source": [
    "# Leer los archivos JSON y obtener su información\n",
    "data = loadJsonData(path)\n",
    "\n",
    "# Se ordena la información del documento en base el timestamp\n",
    "sorted_data = sorted(data, key=lambda x: x['timestamp'])\n",
    "sorted_data"
   ]
  },
  {
   "cell_type": "markdown",
   "id": "940f3da9-f559-436a-a621-a35118d38569",
   "metadata": {},
   "source": [
    "### Duraciones de cada sesion"
   ]
  },
  {
   "cell_type": "code",
   "execution_count": 6,
   "id": "9d0e2c1d-b5db-457b-9f15-ce20fa91d3e6",
   "metadata": {},
   "outputs": [
    {
     "data": {
      "text/plain": [
       "0    195\n",
       "1    234\n",
       "dtype: int64"
      ]
     },
     "execution_count": 6,
     "metadata": {},
     "output_type": "execute_result"
    }
   ],
   "source": [
    "# Longitud de cada sesion en milisegundos\n",
    "sessionLengthMs = []\n",
    "for currentEvent in sorted_data:\n",
    "    if currentEvent['typeEvent'] == \"LoginEvent\":\n",
    "        tsSessionStart = currentEvent['timestamp']\n",
    "    if currentEvent['typeEvent'] == \"LogoutEvent\":\n",
    "        tsSessionEnd = currentEvent['timestamp']\n",
    "        sessionLengthMs.append(tsSessionEnd- tsSessionStart)\n",
    "\n",
    "s = pd.Series(sessionLengthMs)\n",
    "#print(s.describe())\n",
    "s"
   ]
  },
  {
   "cell_type": "markdown",
   "id": "3bb64dc8-2b24-43cf-8f59-f63aa7969c2a",
   "metadata": {},
   "source": [
    "### Calculo de las metricas"
   ]
  },
  {
   "cell_type": "markdown",
   "id": "f1e7837f-40a1-4f94-91a3-0bb2dcf88dd6",
   "metadata": {},
   "source": [
    "Las metricas a tener en cuenta son:\n",
    "- Numero de muertes por partida\n",
    "- Numero de veces que se pierde el escudo por nivel\n",
    "- Tiempo en complentar una partida\n",
    "\n",
    "Adicionalmete se ha añadido las muertes totales y numero de perdidas de escudo por sesion"
   ]
  },
  {
   "cell_type": "code",
   "execution_count": 7,
   "id": "403eca98-ffa8-415a-87b9-0efe4865a15c",
   "metadata": {},
   "outputs": [],
   "source": [
    "game_list = []\n",
    "index_game = 0\n",
    "sesion = 0\n",
    "# Indice de eventos\n",
    "index = 0\n",
    "# Numero total de eventos\n",
    "num_events = len(sorted_data)\n",
    "# Lista de muertes para hacer la media\n",
    "death_list = []\n",
    "# Lista de escudos para hacer la media\n",
    "shield_list = []\n",
    "\n",
    "level = 0\n",
    "shields_per_level = 0"
   ]
  },
  {
   "cell_type": "code",
   "execution_count": 8,
   "id": "a174592d-e7c2-4b15-87da-7365c219b975",
   "metadata": {},
   "outputs": [],
   "source": [
    "duration = []\n",
    "deathCount = []\n",
    "\n",
    "def parseEvent(event):\n",
    "    global index_game\n",
    "    global game_list\n",
    "    global sesion\n",
    "    global death_list\n",
    "    global shield_list\n",
    "    global level\n",
    "    global shields_per_level\n",
    "    if event['typeEvent'] == \"LoginEvent\":\n",
    "        print(\"\\nInicio de sesion: \", sesion)\n",
    "    elif event['typeEvent'] == \"LogoutEvent\":\n",
    "        shields = 0\n",
    "        deaths = 0\n",
    "        shields += game_list[len(game_list) - 1].shields\n",
    "        deaths += game_list[len(game_list) - 1].deaths\n",
    "        death_list.append(game_list[len(game_list) - 1].deaths)\n",
    "        shield_list.append(game_list[len(game_list) - 1].shields)\n",
    "        print(\"Perdidas de escudo en total: \", shields, \"\\nMuertes en total: \", deaths)\n",
    "        print(\"\\nFin de sesion: \", sesion)\n",
    "\n",
    "        sesion += 1\n",
    "    # Empieza la partida\n",
    "    elif event['typeEvent'] == \"StartGameEvent\":\n",
    "        game_list.append(Game(event[\"idLevel\"], event['timestamp']))\n",
    "        shields_per_level = 0\n",
    "        print(\"\\nPartida: \", index_game, )\n",
    "    # Acaba la partida\n",
    "    elif event['typeEvent'] == \"EndGameEvent\":\n",
    "        tsEndTime = event['timestamp']\n",
    "        game_list[index_game].calculateTime(tsEndTime)\n",
    "        duration.append(game_list[index_game].levelLengthMs)\n",
    "\n",
    "        print(\"  Duración: \", game_list[index_game].levelLengthMs, \"\\n  Muertes: \", game_list[index_game].deaths, \"\\n  Perdidas de escudo: \", game_list[index_game].shields)\n",
    "        print(\"  Nivel: \", level, \", escudos perdidos: \", shields_per_level)\n",
    "        level = 0\n",
    "        index_game += 1\n",
    "    elif event['typeEvent'] == \"LoseShieldEvent\":\n",
    "        game_list[index_game].addShield()\n",
    "        shields_per_level +=1 \n",
    "    elif event['typeEvent'] == \"DeathEvent\":\n",
    "        game_list[index_game].addDeath()\n",
    "        print(\"  Nivel: \", level, \", escudos perdidos: \", shields_per_level)\n",
    "        shields_per_level = 0\n",
    "        level +=1 \n",
    "    return  True"
   ]
  },
  {
   "cell_type": "code",
   "execution_count": 9,
   "id": "0c4c19c0-a5a2-44fc-b765-4dd91e7a0a77",
   "metadata": {},
   "outputs": [
    {
     "name": "stdout",
     "output_type": "stream",
     "text": [
      "\n",
      "Inicio de sesion:  0\n",
      "\n",
      "Partida:  0\n",
      "  Nivel:  0 , escudos perdidos:  0\n",
      "  Nivel:  1 , escudos perdidos:  0\n",
      "  Duración:  163 \n",
      "  Muertes:  2 \n",
      "  Perdidas de escudo:  1\n",
      "  Nivel:  2 , escudos perdidos:  1\n",
      "VUELTAS BUCLE\n",
      "Perdidas de escudo en total:  1 \n",
      "Muertes en total:  2\n",
      "\n",
      "Fin de sesion:  0\n",
      "[<__main__.Game object at 0x00000231EC067C10>]\n",
      "\n",
      "Inicio de sesion:  1\n",
      "\n",
      "Partida:  1\n",
      "  Nivel:  0 , escudos perdidos:  2\n",
      "  Nivel:  1 , escudos perdidos:  2\n",
      "  Nivel:  2 , escudos perdidos:  1\n",
      "  Duración:  221 \n",
      "  Muertes:  3 \n",
      "  Perdidas de escudo:  8\n",
      "  Nivel:  3 , escudos perdidos:  3\n",
      "VUELTAS BUCLE\n",
      "Perdidas de escudo en total:  8 \n",
      "Muertes en total:  3\n",
      "\n",
      "Fin de sesion:  1\n",
      "[<__main__.Game object at 0x00000231EC067C10>, <__main__.Game object at 0x00000231EC483990>]\n"
     ]
    }
   ],
   "source": [
    "# Recorro todos los eventos generados\n",
    "while index < num_events:\n",
    "    currentEvent = sorted_data[index]\n",
    "    consumeEvent = parseEvent(currentEvent)\n",
    "    index += 1"
   ]
  },
  {
   "cell_type": "code",
   "execution_count": 10,
   "id": "0670d7e0",
   "metadata": {},
   "outputs": [
    {
     "data": {
      "image/png": "[encoded data removed]",
      "text/plain": [
       "<Figure size 800x500 with 1 Axes>"
      ]
     },
     "metadata": {},
     "output_type": "display_data"
    }
   ],
   "source": [
    "#Grafico de la Duración de cada partida\n",
    "plt.figure(figsize=(8, 5))\n",
    "plt.bar(range(len(duration)), duration, color='skyblue')\n",
    "plt.xlabel('Partida')\n",
    "plt.ylabel('Duración de partida (ms)')\n",
    "plt.title('Duración de partida por partida')\n",
    "plt.xticks(range(len(duration)), range(1, len(duration) + 1))\n",
    "plt.grid(True)\n",
    "plt.show()"
   ]
  },
  {
   "cell_type": "code",
   "execution_count": 11,
   "id": "34ebd18b",
   "metadata": {},
   "outputs": [
    {
     "name": "stdout",
     "output_type": "stream",
     "text": [
      "[2, 3]\n"
     ]
    },
    {
     "data": {
      "image/png": "[encoded data removed]",
      "text/plain": [
       "<Figure size 800x500 with 1 Axes>"
      ]
     },
     "metadata": {},
     "output_type": "display_data"
    }
   ],
   "source": [
    "plt.figure(figsize=(8, 5))\n",
    "plt.bar(range(len(death_list)), death_list, color='salmon')\n",
    "print(death_list)\n",
    "plt.xlabel('Partida')\n",
    "plt.ylabel('Muertes')\n",
    "plt.title('Muertes por partida')\n",
    "plt.xticks(range(len(death_list)), range(1, len(death_list) + 1))\n",
    "plt.grid(True)\n",
    "plt.show()"
   ]
  },
  {
   "cell_type": "code",
   "execution_count": 12,
   "id": "a5813a26",
   "metadata": {},
   "outputs": [
    {
     "data": {
      "image/png": "[encoded data removed]",
      "text/plain": [
       "<Figure size 800x500 with 1 Axes>"
      ]
     },
     "metadata": {},
     "output_type": "display_data"
    }
   ],
   "source": [
    "plt.figure(figsize=(8, 5))\n",
    "plt.bar(range(len(shield_list)), shield_list, color='lightgreen')\n",
    "plt.xlabel('Partida')\n",
    "plt.ylabel('Pérdida de escudo')\n",
    "plt.title('Pérdida de escudo por partida')\n",
    "plt.xticks(range(len(shield_list)), range(1, len(shield_list) + 1))\n",
    "plt.grid(True)\n",
    "plt.show()"
   ]
  },
  {
   "cell_type": "markdown",
   "id": "ff6e4aa4-86a7-4530-9588-5c5233eac11c",
   "metadata": {},
   "source": [
    "### Medias"
   ]
  },
  {
   "cell_type": "markdown",
   "id": "2b2d5dfb-62c8-4ec7-af52-c80234587968",
   "metadata": {},
   "source": [
    "Esto implica todas las sesiones y partidas, es la media total"
   ]
  },
  {
   "cell_type": "code",
   "execution_count": 13,
   "id": "f9a81922-4695-4cc2-ac0e-d9647ffcdcf8",
   "metadata": {},
   "outputs": [
    {
     "name": "stdout",
     "output_type": "stream",
     "text": [
      "\n",
      "Media de muertes: 2.5\n",
      "Media de perdidas de escudo: 4.5\n",
      "Media de la duracion de las partidas: 192.0\n"
     ]
    }
   ],
   "source": [
    "mean = np.mean(death_list)\n",
    "print(\"\\nMedia de muertes:\", round(mean, 2))\n",
    "mean = np.mean(shield_list)\n",
    "print(\"Media de perdidas de escudo:\", round(mean, 2)) \n",
    "mean = np.mean(duration)\n",
    "print(\"Media de la duracion de las partidas:\", round(mean, 2))  \n"
   ]
  },
  {
   "cell_type": "code",
   "execution_count": null,
   "id": "88d5b4b4",
   "metadata": {},
   "outputs": [],
   "source": []
  }
 ],
 "metadata": {
  "kernelspec": {
   "display_name": "Python 3 (ipykernel)",
   "language": "python",
   "name": "python3"
  },
  "language_info": {
   "codemirror_mode": {
    "name": "ipython",
    "version": 3
   },
   "file_extension": ".py",
   "mimetype": "text/x-python",
   "name": "python",
   "nbconvert_exporter": "python",
   "pygments_lexer": "ipython3",
   "version": "3.11.5"
  }
 },
 "nbformat": 4,
 "nbformat_minor": 5
}
