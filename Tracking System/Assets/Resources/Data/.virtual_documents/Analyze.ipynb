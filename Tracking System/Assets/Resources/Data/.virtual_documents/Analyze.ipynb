


class Game():
    """Almacena informacion sobre una partida:
    - When the level starts and ends and its lenght
    - The event result
    - Player deaths during this level
    """
    def __init__(self, id, tsStart):
        """Constructor
        """
        self.id = id
        self.tsLevelStart = tsStart
        self.levelLengthMs = 0
        self.shields = 0    
        self.deaths = 0

    def addDeath(self):
        self.deaths += 1
    
    def addShield(self):
        self.shields += 1

    def calculateTime (self, endTime):
        self.levelLengthMs = endTime - self.tsLevelStart






import os
import json
import pandas as pd
import numpy as np
import matplotlib.pyplot as plt





# Ruta de los archivos con los datos obtenidos por el "Tracking system"
path = '.'


def loadJsonData(path):
    jsonData = []
    
    # Obtener lista de archivos en la carpeta
    jsonFiles = os.listdir(path)
    
    # Recorrer y filtrar solo los archivos JSON
    for file in jsonFiles:
        if file.endswith('.json'):
            ruta_archivo = os.path.join(path, file)
            
            # Leer el contenido del archivo JSON
            with open(ruta_archivo, 'r', encoding='utf-8') as f:
                info = json.load(f)
                jsonData.extend(info)
    
    return jsonData


# Leer los archivos JSON y obtener su información
data = loadJsonData(path)

# Se ordena la información del documento en base el timestamp
sorted_data = sorted(data, key=lambda x: x['timestamp'])
sorted_data





# Longitud de cada sesion en milisegundos
sessionLengthMs = []
for currentEvent in sorted_data:
    if currentEvent['typeEvent'] == "LoginEvent":
        tsSessionStart = currentEvent['timestamp']
    if currentEvent['typeEvent'] == "LogoutEvent":
        tsSessionEnd = currentEvent['timestamp']
        sessionLengthMs.append(tsSessionEnd- tsSessionStart)

s = pd.Series(sessionLengthMs)
#print(s.describe())
s








game_list = []
index_game = 0
sesion = 0
# Indice de eventos
index = 0
# Numero total de eventos
num_events = len(sorted_data)
# Lista de muertes para hacer la media
death_list = []
# Lista de escudos para hacer la media
shield_list = []

level = 0
shields_per_level = 0


duration = []
deathCount = []

def parseEvent(event):
    global index_game
    global game_list
    global sesion
    global death_list
    global shield_list
    global level
    global shields_per_level
    if event['typeEvent'] == "LoginEvent":
        print("\nInicio de sesion: ", sesion)
    elif event['typeEvent'] == "LogoutEvent":
        shields = 0
        deaths = 0
        #for game in game_list:
            #shields += game.shields
            #deaths += game.deaths
            #death_list.append(game.deaths)
            #shield_list.append(game.shields)
        #print("Perdidas de escudo en total: ", shields, "\nMuertes en total: ", deaths)
        print("\nFin de sesion: ", sesion)
        sesion += 1
    # Empieza la partida
    elif event['typeEvent'] == "StartGameEvent":
        #game_list.append(Game(event["idLevel"], event['timestamp']))
        shields_per_level = 0
        print("\nPartida: ", index_game, )
    # Acaba la partida
    elif event['typeEvent'] == "EndGameEvent":
        #tsEndTime = event['timestamp']
        #game_list[index_game].calculateTime(tsEndTime)
        #duration.append(game_list[index_game].levelLengthMs)

        #print("  Duración: ", game_list[index_game].levelLengthMs, "\n  Muertes: ", game_list[index_game].deaths, "\n  Perdidas de escudo: ", game_list[index_game].shields)
        #print("  Nivel: ", level, ", escudos perdidos: ", shields_per_level)
        level = 0
        index_game += 1
    elif event['typeEvent'] == "LoseShieldEvent":
        #game_list[index_game].addShield()
        shields_per_level +=1 
    elif event['typeEvent'] == "DeathEvent":
        #game_list[index_game].addDeath()
        #print("  Nivel: ", level, ", escudos perdidos: ", shields_per_level)
        #shields_per_level = 0
        level +=1 
    return  True


# Recorro todos los eventos generados
while index < num_events:
    currentEvent = sorted_data[index]
    consumeEvent = parseEvent(currentEvent)
    index += 1


#Grafico de la Duración de cada partida
plt.figure(figsize=(8, 5))
plt.bar(range(len(duration)), duration, color='skyblue')
plt.xlabel('Partida')
plt.ylabel('Duración de partida (ms)')
plt.title('Duración de partida por partida')
plt.xticks(range(len(duration)), range(1, len(duration) + 1))
plt.grid(True)
plt.show()


plt.figure(figsize=(8, 5))
plt.bar(range(len(death_list)), death_list, color='salmon')
plt.xlabel('Partida')
plt.ylabel('Muertes')
plt.title('Muertes por partida')
plt.xticks(range(len(death_list)), range(1, len(death_list) + 1))
plt.grid(True)
plt.show()


plt.figure(figsize=(8, 5))
plt.bar(range(len(shield_list)), shield_list, color='lightgreen')
plt.xlabel('Partida')
plt.ylabel('Pérdida de escudo')
plt.title('Pérdida de escudo por partida')
plt.xticks(range(len(shield_list)), range(1, len(shield_list) + 1))
plt.grid(True)
plt.show()








mean = np.mean(death_list)
print("\nMedia de muertes:", round(mean, 2))
mean = np.mean(shield_list)
print("Media de perdidas de escudo:", round(mean, 2)) 
mean = np.mean(duration)
print("Media de la duracion de las partidas:", round(mean, 2))  

