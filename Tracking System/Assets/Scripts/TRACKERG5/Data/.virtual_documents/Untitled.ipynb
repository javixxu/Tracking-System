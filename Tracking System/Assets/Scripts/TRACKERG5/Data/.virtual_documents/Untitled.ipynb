





import json
import pandas as pd
import matplotlib.pyplot as plt





# Ruta del archivo con los datos obtenidos por el "Tracking system"
file_path = './RESULT.json'


# Abrir el archivo json y cargarlo en la variable data
with open(file_path) as f:
    data = json.load(f)

# Se ordena la información del json en base el timestamp
sorted_data = sorted(data, key=lambda x: x['timestamp'])


# Longitud de cada sesion en milisegundos
gameSessionLengthMs = []
    for currentEvent in sorted_data:
        if currentEvent['eventType'] == "GAME:START":
            tsSessionStart = currentEvent['timestamp']
        if currentEvent['eventType'] == "GAME:END":
            tsSessionEnd = currentEvent['timestamp']
            gameSessionLengthMs.append(tsSessionEnd-tsSessionStart)

s = pd.Series(gameSessionLengthMs)
print(s.describe())



