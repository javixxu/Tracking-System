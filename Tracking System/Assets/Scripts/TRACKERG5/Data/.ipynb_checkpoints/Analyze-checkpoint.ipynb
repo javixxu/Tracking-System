{
 "cells": [
  {
   "cell_type": "markdown",
   "id": "0459e81a-f424-4f7e-8ae1-72441e8093b4",
   "metadata": {},
   "source": [
    "# Calculo de las metricas en python"
   ]
  },
  {
   "cell_type": "markdown",
   "id": "61276248-64d2-45bc-8acb-8655716a3ae1",
   "metadata": {},
   "source": [
    "### Importacion de las librerias necesarias"
   ]
  },
  {
   "cell_type": "code",
   "execution_count": 12,
   "id": "d2f5fa59-3ab9-4c8f-b5fc-c394622d87c4",
   "metadata": {},
   "outputs": [],
   "source": [
    "import json\n",
    "import re\n",
    "import pandas as pd\n",
    "import matplotlib.pyplot as plt"
   ]
  },
  {
   "cell_type": "markdown",
   "id": "e2af12c0-e9f1-4538-95e2-399f449cc2e2",
   "metadata": {},
   "source": [
    "### Lectura del documento"
   ]
  },
  {
   "cell_type": "code",
   "execution_count": 13,
   "id": "67caf712-2d19-49dc-a10a-951037f42680",
   "metadata": {},
   "outputs": [],
   "source": [
    "# Ruta del archivo con los datos obtenidos por el \"Tracking system\"\n",
    "file_path = './RESULT.json'"
   ]
  },
  {
   "cell_type": "code",
   "execution_count": 14,
   "id": "8eab897f-12bc-4b03-9b61-0f2299c2b591",
   "metadata": {},
   "outputs": [],
   "source": [
    "# Abrir el archivo json y cargarlo en la variable data\n",
    "with open(file_path) as f:\n",
    "    data = json.load(f)\n",
    "\n",
    "# Se ordena la información del json en base el timestamp\n",
    "sorted_data = sorted(data, key=lambda x: x['timestamp'])"
   ]
  },
  {
   "cell_type": "code",
   "execution_count": 17,
   "id": "9d0e2c1d-b5db-457b-9f15-ce20fa91d3e6",
   "metadata": {},
   "outputs": [
    {
     "name": "stdout",
     "output_type": "stream",
     "text": [
      "count         1.0\n",
      "mean     229048.0\n",
      "std           NaN\n",
      "min      229048.0\n",
      "25%      229048.0\n",
      "50%      229048.0\n",
      "75%      229048.0\n",
      "max      229048.0\n",
      "dtype: float64\n"
     ]
    }
   ],
   "source": [
    "# Longitud de cada sesion en milisegundos\n",
    "gameSessionLengthMs = []\n",
    "for currentEvent in sorted_data:\n",
    "    if currentEvent['typeEvent'] == \"LoginEvent\":\n",
    "        tsSessionStart = currentEvent['timestamp']\n",
    "        r = re.search(r'\\d+', tsSessionStart)\n",
    "        numeric_tsSessionStart = int(r.group())\n",
    "    if currentEvent['typeEvent'] == \"LogoutEvent\":\n",
    "        tsSessionEnd = currentEvent['timestamp']\n",
    "        r = re.search(r'\\d+', tsSessionEnd)\n",
    "        numeric_tsSessionEnd = int(r.group())\n",
    "        gameSessionLengthMs.append(numeric_tsSessionEnd- numeric_tsSessionStart)\n",
    "\n",
    "s = pd.Series(gameSessionLengthMs)\n",
    "#print(s.describe())"
   ]
  },
  {
   "cell_type": "code",
   "execution_count": 18,
   "id": "4925764c-376e-43bc-bd29-51f3bb790fec",
   "metadata": {},
   "outputs": [
    {
     "data": {
      "text/plain": [
       "0    229048\n",
       "dtype: int64"
      ]
     },
     "execution_count": 18,
     "metadata": {},
     "output_type": "execute_result"
    }
   ],
   "source": [
    "s"
   ]
  },
  {
   "cell_type": "code",
   "execution_count": null,
   "id": "0c4c19c0-a5a2-44fc-b765-4dd91e7a0a77",
   "metadata": {},
   "outputs": [],
   "source": [
    "index = 0\n",
    "num_events = len(sorted_data)\n",
    "\n",
    "while index < num_events:\n",
    "    currentEvent = sorted_data[index]\n",
    "    consumeEvent = currentContext.parseEvent(currentEvent)\n",
    "    if consumeEvent:\n",
    "        index+=1"
   ]
  },
  {
   "cell_type": "code",
   "execution_count": null,
   "id": "f731e4ab-0d6b-4874-833a-db639e194673",
   "metadata": {},
   "outputs": [],
   "source": [
    "def parseEvent(event):\n",
    "    "
   ]
  }
 ],
 "metadata": {
  "kernelspec": {
   "display_name": "Python 3 (ipykernel)",
   "language": "python",
   "name": "python3"
  },
  "language_info": {
   "codemirror_mode": {
    "name": "ipython",
    "version": 3
   },
   "file_extension": ".py",
   "mimetype": "text/x-python",
   "name": "python",
   "nbconvert_exporter": "python",
   "pygments_lexer": "ipython3",
   "version": "3.11.5"
  }
 },
 "nbformat": 4,
 "nbformat_minor": 5
}
