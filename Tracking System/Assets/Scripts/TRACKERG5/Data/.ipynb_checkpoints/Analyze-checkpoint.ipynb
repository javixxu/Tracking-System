{
 "cells": [
  {
   "cell_type": "markdown",
   "id": "0459e81a-f424-4f7e-8ae1-72441e8093b4",
   "metadata": {},
   "source": [
    "# Calculo de las metricas de un json"
   ]
  },
  {
   "cell_type": "code",
   "execution_count": 32,
   "id": "fe5effb5-fe6b-4c27-8a1f-216aa6f1cd0e",
   "metadata": {},
   "outputs": [],
   "source": [
    "class Game():\n",
    "    \"\"\"Almacena informacion sobre una partida:\n",
    "    - When the level starts and ends and its lenght\n",
    "    - The event result\n",
    "    - Player deaths during this level\n",
    "    \"\"\"\n",
    "    def __init__(self, id, tsStart):\n",
    "        \"\"\"Constructor\n",
    "        \"\"\"\n",
    "        self.id = id\n",
    "        self.tsLevelStart = tsStart\n",
    "        self.levelLengthMs = 0\n",
    "        self.shields = 0    \n",
    "        self.deaths = 0\n",
    "\n",
    "    def addDeath(self):\n",
    "        self.deaths += 1\n",
    "    \n",
    "    def addShield(self):\n",
    "        self.shields += 1\n",
    "\n",
    "    def calculateTime (self, endTime):\n",
    "        self.levelLengthMs = endTime - self.tsLevelStart\n"
   ]
  },
  {
   "cell_type": "markdown",
   "id": "61276248-64d2-45bc-8acb-8655716a3ae1",
   "metadata": {},
   "source": [
    "### Importacion de las librerias necesarias"
   ]
  },
  {
   "cell_type": "code",
   "execution_count": 33,
   "id": "d2f5fa59-3ab9-4c8f-b5fc-c394622d87c4",
   "metadata": {},
   "outputs": [],
   "source": [
    "import os\n",
    "import json\n",
    "import pandas as pd\n",
    "import numpy as np\n",
    "import matplotlib.pyplot as plt"
   ]
  },
  {
   "cell_type": "markdown",
   "id": "e2af12c0-e9f1-4538-95e2-399f449cc2e2",
   "metadata": {},
   "source": [
    "### Lectura del documento"
   ]
  },
  {
   "cell_type": "code",
   "execution_count": 34,
   "id": "67caf712-2d19-49dc-a10a-951037f42680",
   "metadata": {},
   "outputs": [],
   "source": [
    "# Ruta de los archivos con los datos obtenidos por el \"Tracking system\"\n",
    "path = '.'"
   ]
  },
  {
   "cell_type": "code",
   "execution_count": 35,
   "id": "c8c3fdad-e051-4376-a631-15348b1e24c0",
   "metadata": {},
   "outputs": [],
   "source": [
    "def loadJsonData(path):\n",
    "    jsonData = []\n",
    "    \n",
    "    # Obtener lista de archivos en la carpeta\n",
    "    jsonFiles = os.listdir(path)\n",
    "    \n",
    "    # Recorrer y filtrar solo los archivos JSON\n",
    "    for file in jsonFiles:\n",
    "        if file.endswith('.json'):\n",
    "            ruta_archivo = os.path.join(path, file)\n",
    "            \n",
    "            # Leer el contenido del archivo JSON\n",
    "            with open(ruta_archivo, 'r', encoding='utf-8') as f:\n",
    "                info = json.load(f)\n",
    "                jsonData.extend(info)\n",
    "    \n",
    "    return jsonData"
   ]
  },
  {
   "cell_type": "code",
   "execution_count": 36,
   "id": "8eab897f-12bc-4b03-9b61-0f2299c2b591",
   "metadata": {},
   "outputs": [
    {
     "data": {
      "text/plain": [
       "[{'id': 'a30145cba71e576a4e3407989dce837b6ad8ab7f212705b37cd240759201208b',\n",
       "  'idLevel': 0,\n",
       "  'idSession': 'a30145cba71e576a4e3407989dce837b6ad8ab7f212705b37cd240759201208b',\n",
       "  'idUser': '35e3082af0d3b5c689165a42290bfd38',\n",
       "  'timestamp': 1718271838,\n",
       "  'typeEvent': 'LoginEvent'},\n",
       " {'id': '8c814e74a1da616b4d0e79461fc18b02902f8328cc36844849ba51595f120460',\n",
       "  'idLevel': 0,\n",
       "  'idSession': 'a30145cba71e576a4e3407989dce837b6ad8ab7f212705b37cd240759201208b',\n",
       "  'idUser': '35e3082af0d3b5c689165a42290bfd38',\n",
       "  'timestamp': 1718271842,\n",
       "  'typeEvent': 'StartGameEvent'},\n",
       " {'id': 'b81dbcff48e2413d5a69628676c0d66028a69659b9201d777233479a89f613d5',\n",
       "  'idLevel': 0,\n",
       "  'idSession': 'a30145cba71e576a4e3407989dce837b6ad8ab7f212705b37cd240759201208b',\n",
       "  'idUser': '35e3082af0d3b5c689165a42290bfd38',\n",
       "  'timestamp': 1718271860,\n",
       "  'typeEvent': 'LogoutEvent'},\n",
       " {'id': '1fa786fc6e56b8fcadb784afd740293d8aa9b6c8470badaca95a1410945b205c',\n",
       "  'idLevel': 0,\n",
       "  'idSession': '1fa786fc6e56b8fcadb784afd740293d8aa9b6c8470badaca95a1410945b205c',\n",
       "  'idUser': '35e3082af0d3b5c689165a42290bfd38',\n",
       "  'timestamp': 1718271896,\n",
       "  'typeEvent': 'LoginEvent'},\n",
       " {'id': 'd7cff4230588bf3edf8fafc24b678f2445d4b1665ad88d5faea701cd59a6ab16',\n",
       "  'idLevel': 0,\n",
       "  'idSession': '1fa786fc6e56b8fcadb784afd740293d8aa9b6c8470badaca95a1410945b205c',\n",
       "  'idUser': '35e3082af0d3b5c689165a42290bfd38',\n",
       "  'timestamp': 1718271967,\n",
       "  'typeEvent': 'LoseShieldEvent'},\n",
       " {'id': '2721fed4acd8890a202fc948930a4222f79e5f5b60a133af980515ea5f380924',\n",
       "  'idLevel': 0,\n",
       "  'idSession': '1fa786fc6e56b8fcadb784afd740293d8aa9b6c8470badaca95a1410945b205c',\n",
       "  'idUser': '35e3082af0d3b5c689165a42290bfd38',\n",
       "  'timestamp': 1718271978,\n",
       "  'typeEvent': 'DeathEvent'},\n",
       " {'id': '8c050ecf23ef12d75ce8714ec0f0f0edc0be7aae19e575b83470e1eeac2ba378',\n",
       "  'idLevel': 0,\n",
       "  'idSession': '1fa786fc6e56b8fcadb784afd740293d8aa9b6c8470badaca95a1410945b205c',\n",
       "  'idUser': '35e3082af0d3b5c689165a42290bfd38',\n",
       "  'timestamp': 1718271991,\n",
       "  'typeEvent': 'LoseShieldEvent'},\n",
       " {'id': '7dedb25981eb9698617f910c61e7ff4a821d5adfa13de5bf20869683c37b8de6',\n",
       "  'idLevel': 0,\n",
       "  'idSession': '1fa786fc6e56b8fcadb784afd740293d8aa9b6c8470badaca95a1410945b205c',\n",
       "  'idUser': '35e3082af0d3b5c689165a42290bfd38',\n",
       "  'timestamp': 1718272048,\n",
       "  'typeEvent': 'LoseShieldEvent'},\n",
       " {'id': '92a9a4ecce5a6f502ace9ebfae994315ba11acebe0fad05759c450767f10572b',\n",
       "  'idLevel': 0,\n",
       "  'idSession': '1fa786fc6e56b8fcadb784afd740293d8aa9b6c8470badaca95a1410945b205c',\n",
       "  'idUser': '35e3082af0d3b5c689165a42290bfd38',\n",
       "  'timestamp': 1718272050,\n",
       "  'typeEvent': 'DeathEvent'},\n",
       " {'id': '0c198cd61ba38d1aa54c4de979d54327080741339c7869829baa1f54aecdf79b',\n",
       "  'idLevel': 0,\n",
       "  'idSession': '1fa786fc6e56b8fcadb784afd740293d8aa9b6c8470badaca95a1410945b205c',\n",
       "  'idUser': '35e3082af0d3b5c689165a42290bfd38',\n",
       "  'timestamp': 1718272170,\n",
       "  'typeEvent': 'LogoutEvent'},\n",
       " {'id': '921d79049ddb350401f690e02c8a3a4a848bd4f7d91a35072ff35946d65d7858',\n",
       "  'idLevel': 0,\n",
       "  'idSession': '921d79049ddb350401f690e02c8a3a4a848bd4f7d91a35072ff35946d65d7858',\n",
       "  'idUser': '35e3082af0d3b5c689165a42290bfd38',\n",
       "  'timestamp': 1718273766,\n",
       "  'typeEvent': 'LoginEvent'},\n",
       " {'id': '4bab97e199a4a6b666a7dac85f6936f818a65d605ab6fc64166c136ac166cd46',\n",
       "  'idLevel': 0,\n",
       "  'idSession': '921d79049ddb350401f690e02c8a3a4a848bd4f7d91a35072ff35946d65d7858',\n",
       "  'idUser': '35e3082af0d3b5c689165a42290bfd38',\n",
       "  'timestamp': 1718273856,\n",
       "  'typeEvent': 'LoseShieldEvent'},\n",
       " {'id': 'd4fa565bba64dc3bf702945264d0f5cecfa9cc7e462bf3531ad5def3f7e1bdd7',\n",
       "  'idLevel': 0,\n",
       "  'idSession': '921d79049ddb350401f690e02c8a3a4a848bd4f7d91a35072ff35946d65d7858',\n",
       "  'idUser': '35e3082af0d3b5c689165a42290bfd38',\n",
       "  'timestamp': 1718273895,\n",
       "  'typeEvent': 'EndGameEvent'},\n",
       " {'id': 'd4fa565bba64dc3bf702945264d0f5cecfa9cc7e462bf3531ad5def3f7e1bdd7',\n",
       "  'idLevel': 0,\n",
       "  'idSession': '921d79049ddb350401f690e02c8a3a4a848bd4f7d91a35072ff35946d65d7858',\n",
       "  'idUser': '35e3082af0d3b5c689165a42290bfd38',\n",
       "  'timestamp': 1718273895,\n",
       "  'typeEvent': 'LoseShieldEvent'},\n",
       " {'id': 'd7e40cd4b88f9879a5301d9aa9843fd24ed1cbe7e313877acaa48ae24411a91f',\n",
       "  'idLevel': 0,\n",
       "  'idSession': '921d79049ddb350401f690e02c8a3a4a848bd4f7d91a35072ff35946d65d7858',\n",
       "  'idUser': '35e3082af0d3b5c689165a42290bfd38',\n",
       "  'timestamp': 1718273898,\n",
       "  'typeEvent': 'LogoutEvent'}]"
      ]
     },
     "execution_count": 36,
     "metadata": {},
     "output_type": "execute_result"
    }
   ],
   "source": [
    "# Leer los archivos JSON y obtener su información\n",
    "data = loadJsonData(path)\n",
    "\n",
    "# Se ordena la información del documento en base el timestamp\n",
    "sorted_data = sorted(data, key=lambda x: x['timestamp'])\n",
    "sorted_data"
   ]
  },
  {
   "cell_type": "markdown",
   "id": "940f3da9-f559-436a-a621-a35118d38569",
   "metadata": {},
   "source": [
    "### Duraciones de cada sesion"
   ]
  },
  {
   "cell_type": "code",
   "execution_count": 37,
   "id": "9d0e2c1d-b5db-457b-9f15-ce20fa91d3e6",
   "metadata": {},
   "outputs": [
    {
     "data": {
      "text/plain": [
       "0     22\n",
       "1    274\n",
       "2    132\n",
       "dtype: int64"
      ]
     },
     "execution_count": 37,
     "metadata": {},
     "output_type": "execute_result"
    }
   ],
   "source": [
    "# Longitud de cada sesion en milisegundos\n",
    "sessionLengthMs = []\n",
    "for currentEvent in sorted_data:\n",
    "    if currentEvent['typeEvent'] == \"LoginEvent\":\n",
    "        tsSessionStart = currentEvent['timestamp']\n",
    "    if currentEvent['typeEvent'] == \"LogoutEvent\":\n",
    "        tsSessionEnd = currentEvent['timestamp']\n",
    "        sessionLengthMs.append(tsSessionEnd- tsSessionStart)\n",
    "\n",
    "s = pd.Series(sessionLengthMs)\n",
    "#print(s.describe())\n",
    "s"
   ]
  },
  {
   "cell_type": "markdown",
   "id": "3bb64dc8-2b24-43cf-8f59-f63aa7969c2a",
   "metadata": {},
   "source": [
    "### Calculo de las metricas"
   ]
  },
  {
   "cell_type": "markdown",
   "id": "f1e7837f-40a1-4f94-91a3-0bb2dcf88dd6",
   "metadata": {},
   "source": [
    "Las metricas a tener en cuenta son:\n",
    "- Numero de muertes por partida\n",
    "- Numero de veces que se pierde el escudo por nivel\n",
    "- Tiempo en complentar una partida\n",
    "\n",
    "Adicionalmete se ha añadido las muertes totales y numero de perdidas de escudo por sesion"
   ]
  },
  {
   "cell_type": "code",
   "execution_count": 38,
   "id": "403eca98-ffa8-415a-87b9-0efe4865a15c",
   "metadata": {},
   "outputs": [],
   "source": [
    "game_list = []\n",
    "index_game = 0\n",
    "sesion = 0\n",
    "# Indice de eventos\n",
    "index = 0\n",
    "# Numero total de eventos\n",
    "num_events = len(sorted_data)\n",
    "# Lista de muertes para hacer la media\n",
    "death_list = []\n",
    "# Lista de escudos para hacer la media\n",
    "shield_list = []\n",
    "\n",
    "level = 0\n",
    "shields_per_level = 0"
   ]
  },
  {
   "cell_type": "code",
   "execution_count": 39,
   "id": "a174592d-e7c2-4b15-87da-7365c219b975",
   "metadata": {},
   "outputs": [],
   "source": [
    "duration = []\n",
    "deathCount = []\n",
    "\n",
    "def parseEvent(event):\n",
    "    global index_game\n",
    "    global game_list\n",
    "    global sesion\n",
    "    global death_list\n",
    "    global shield_list\n",
    "    global level\n",
    "    global shields_per_level\n",
    "    if event['typeEvent'] == \"LoginEvent\":\n",
    "        print(\"\\nInicio de sesion: \", sesion)\n",
    "    elif event['typeEvent'] == \"LogoutEvent\":\n",
    "        shields = 0\n",
    "        deaths = 0\n",
    "        for game in game_list:\n",
    "            shields += game.shields\n",
    "            deaths += game.deaths\n",
    "            death_list.append(game.deaths)\n",
    "            shield_list.append(game.shields)\n",
    "        print(\"Perdidas de escudo en total: \", shields, \"\\nMuertes en total: \", deaths)\n",
    "        print(\"\\nFin de sesion: \", sesion)\n",
    "        sesion += 1\n",
    "    # Empieza la partida\n",
    "    elif event['typeEvent'] == \"StartGameEvent\":\n",
    "        game_list.append(Game(event[\"idLevel\"], event['timestamp']))\n",
    "        shields_per_level = 0\n",
    "        print(\"\\nPartida: \", index_game, )\n",
    "    # Acaba la partida\n",
    "    elif event['typeEvent'] == \"EndGameEvent\":\n",
    "        tsEndTime = event['timestamp']\n",
    "        game_list[index_game].calculateTime(tsEndTime)\n",
    "        duration.append(game_list[index_game].levelLengthMs)\n",
    "\n",
    "        print(\"  Duración: \", game_list[index_game].levelLengthMs, \"\\n  Muertes: \", game_list[index_game].deaths, \"\\n  Perdidas de escudo: \", game_list[index_game].shields)\n",
    "        print(\"  Nivel: \", level, \", escudos perdidos: \", shields_per_level)\n",
    "        level = 0\n",
    "        index_game += 1\n",
    "    elif event['typeEvent'] == \"LoseShieldEvent\":\n",
    "        game_list[index_game].addShield()\n",
    "        shields_per_level +=1 \n",
    "    elif event['typeEvent'] == \"DeathEvent\":\n",
    "        game_list[index_game].addDeath()\n",
    "        print(\"  Nivel: \", level, \", escudos perdidos: \", shields_per_level)\n",
    "        shields_per_level = 0\n",
    "        level +=1 \n",
    "    return  True"
   ]
  },
  {
   "cell_type": "code",
   "execution_count": 40,
   "id": "0c4c19c0-a5a2-44fc-b765-4dd91e7a0a77",
   "metadata": {},
   "outputs": [
    {
     "name": "stdout",
     "output_type": "stream",
     "text": [
      "\n",
      "Inicio de sesion:  0\n",
      "\n",
      "Partida:  0\n",
      "\n",
      "Fin de sesion:  0\n",
      "\n",
      "Inicio de sesion:  1\n",
      "\n",
      "Fin de sesion:  1\n",
      "\n",
      "Inicio de sesion:  2\n",
      "\n",
      "Fin de sesion:  2\n"
     ]
    }
   ],
   "source": [
    "# Recorro todos los eventos generados\n",
    "while index < num_events:\n",
    "    currentEvent = sorted_data[index]\n",
    "    consumeEvent = parseEvent(currentEvent)\n",
    "    index += 1"
   ]
  },
  {
   "cell_type": "code",
   "execution_count": 41,
   "id": "0670d7e0",
   "metadata": {},
   "outputs": [
    {
     "data": {
      "image/png": "[encoded data removed]",
      "text/plain": [
       "<Figure size 800x500 with 1 Axes>"
      ]
     },
     "metadata": {},
     "output_type": "display_data"
    }
   ],
   "source": [
    "#Grafico de la Duración de cada partida\n",
    "plt.figure(figsize=(8, 5))\n",
    "plt.bar(range(len(duration)), duration, color='skyblue')\n",
    "plt.xlabel('Partida')\n",
    "plt.ylabel('Duración de partida (ms)')\n",
    "plt.title('Duración de partida por partida')\n",
    "plt.xticks(range(len(duration)), range(1, len(duration) + 1))\n",
    "plt.grid(True)\n",
    "plt.show()"
   ]
  },
  {
   "cell_type": "code",
   "execution_count": 42,
   "id": "34ebd18b",
   "metadata": {},
   "outputs": [
    {
     "data": {
      "image/png": "[encoded data removed]",
      "text/plain": [
       "<Figure size 800x500 with 1 Axes>"
      ]
     },
     "metadata": {},
     "output_type": "display_data"
    }
   ],
   "source": [
    "plt.figure(figsize=(8, 5))\n",
    "plt.bar(range(len(death_list)), death_list, color='salmon')\n",
    "plt.xlabel('Partida')\n",
    "plt.ylabel('Muertes')\n",
    "plt.title('Muertes por partida')\n",
    "plt.xticks(range(len(death_list)), range(1, len(death_list) + 1))\n",
    "plt.grid(True)\n",
    "plt.show()"
   ]
  },
  {
   "cell_type": "code",
   "execution_count": 43,
   "id": "a5813a26",
   "metadata": {},
   "outputs": [
    {
     "data": {
      "image/png": "[encoded data removed]",
      "text/plain": [
       "<Figure size 800x500 with 1 Axes>"
      ]
     },
     "metadata": {},
     "output_type": "display_data"
    }
   ],
   "source": [
    "plt.figure(figsize=(8, 5))\n",
    "plt.bar(range(len(shield_list)), shield_list, color='lightgreen')\n",
    "plt.xlabel('Partida')\n",
    "plt.ylabel('Pérdida de escudo')\n",
    "plt.title('Pérdida de escudo por partida')\n",
    "plt.xticks(range(len(shield_list)), range(1, len(shield_list) + 1))\n",
    "plt.grid(True)\n",
    "plt.show()"
   ]
  },
  {
   "cell_type": "markdown",
   "id": "ff6e4aa4-86a7-4530-9588-5c5233eac11c",
   "metadata": {},
   "source": [
    "### Medias"
   ]
  },
  {
   "cell_type": "markdown",
   "id": "2b2d5dfb-62c8-4ec7-af52-c80234587968",
   "metadata": {},
   "source": [
    "Esto implica todas las sesiones y partidas, es la media total"
   ]
  },
  {
   "cell_type": "code",
   "execution_count": 44,
   "id": "f9a81922-4695-4cc2-ac0e-d9647ffcdcf8",
   "metadata": {},
   "outputs": [
    {
     "name": "stdout",
     "output_type": "stream",
     "text": [
      "\n",
      "Media de muertes: nan\n",
      "Media de perdidas de escudo: nan\n",
      "Media de la duracion de las partidas: nan\n"
     ]
    }
   ],
   "source": [
    "mean = np.mean(death_list)\n",
    "print(\"\\nMedia de muertes:\", round(mean, 2))\n",
    "mean = np.mean(shield_list)\n",
    "print(\"Media de perdidas de escudo:\", round(mean, 2)) \n",
    "mean = np.mean(duration)\n",
    "print(\"Media de la duracion de las partidas:\", round(mean, 2))  \n"
   ]
  }
 ],
 "metadata": {
  "kernelspec": {
   "display_name": "Python 3 (ipykernel)",
   "language": "python",
   "name": "python3"
  },
  "language_info": {
   "codemirror_mode": {
    "name": "ipython",
    "version": 3
   },
   "file_extension": ".py",
   "mimetype": "text/x-python",
   "name": "python",
   "nbconvert_exporter": "python",
   "pygments_lexer": "ipython3",
   "version": "3.11.5"
  }
 },
 "nbformat": 4,
 "nbformat_minor": 5
}
