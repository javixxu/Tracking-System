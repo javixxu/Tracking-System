{
 "cells": [
  {
   "cell_type": "markdown",
   "id": "f8844dad-7c45-42d3-af74-50985b188ca3",
   "metadata": {},
   "source": [
    "# Análisis de los datos obtenidos"
   ]
  },
  {
   "cell_type": "markdown",
   "id": "c3d99f98",
   "metadata": {},
   "source": [
    "A continuación se compararán los resultados obtenidos con las hipótesis que fueron planteadas inicialmente en el diseño de evaluación.\n",
    "\n",
    "Nuestro objetivo es saber si el nivel \"intermedio\" de los niveles seleccionables del juego tiene la dificultad adecuada.\n",
    "\n",
    "\n",
    "**Terminología Relevante**:\n",
    "\n",
    "- ***Nivel***: Periodo desde la selección de una dificultad hasta la destrucción de la nave del jugador.\n",
    "- ***Partida***: Periodo desde el comienzo de un nivel hasta la victoria del jugador. La destrucción y reaparición de la nave no constituye un fin de partida.\n",
    "\n",
    "\n",
    "Estas son nuestras preguntas de investigación:\n",
    "- La partida estará comprendida entre 80 y 120 segundos de media.\n",
    "- El jugador durante una partida, morirá entre 2 y 6 veces.\n",
    "- El jugador durante una partida, se chocará con el escudo equipado, entre 1 y 3 veces de media, por nivel.\n",
    "\n",
    "En base a estas preguntas, se comprobará que los resultados se encuentren dentro del rango esperado a través de los datos obtenidos:\n",
    "- **Duración de la partida**: Según los datos, la partida durará 115 segundos de media, entrando esta cifra dentro de la cantidad prevista y confirmando nuestra hipótesis.\n",
    "- **Muertes por partida**: Como se puede observar en el gráfico, en la primera y segunda partida, el jugador no muere. No obstante, en la tercera partida muere un total de 3 veces, obteniendo que los datos son dispares entre sí y que la mayoría de ellos no entran dentro del rango.\n",
    "- **Pérdida de escudo**: En base a los resultados obtenidos, el jugador pierde el escudo 2,3 veces de media. Se puede comprobar que esta cifra entra dentro de la cantidad prevista.\n",
    "\n",
    "En conclusión, se puede ver que los resultados obtenidos concuerdan con las predicciones propuestas, confirmando que la dificultad del nivel es la adecuada. Sin embargo, la métrica de muertes por partida es la más disonante de todas puesto que en las primeras partidas el jugador no muere, dando a entender que el aprendizaje puede no ser progresivo, y que el diseño aleatorio de los niveles influya en esto. Por tanto, habría que revisar los niveles de nuevo para que el número de muertes por partida esté en equilibrio."
   ]
  }
 ],
 "metadata": {
  "kernelspec": {
   "display_name": "Python 3",
   "language": "python",
   "name": "python3"
  },
  "language_info": {
   "codemirror_mode": {
    "name": "ipython",
    "version": 3
   },
   "file_extension": ".py",
   "mimetype": "text/x-python",
   "name": "python",
   "nbconvert_exporter": "python",
   "pygments_lexer": "ipython3",
   "version": "3.10.9"
  }
 },
 "nbformat": 4,
 "nbformat_minor": 5
}
