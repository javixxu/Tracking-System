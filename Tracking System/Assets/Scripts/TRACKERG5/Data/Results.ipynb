{
 "cells": [
  {
   "cell_type": "markdown",
   "id": "f8844dad-7c45-42d3-af74-50985b188ca3",
   "metadata": {},
   "source": [
    "# Analisis de los datos obtenidos"
   ]
  },
  {
   "cell_type": "code",
   "execution_count": null,
   "id": "50c59011-a26f-4b0f-873d-d10182b28c15",
   "metadata": {},
   "outputs": [],
   "source": []
  }
 ],
 "metadata": {
  "kernelspec": {
   "display_name": "Python 3 (ipykernel)",
   "language": "python",
   "name": "python3"
  },
  "language_info": {
   "codemirror_mode": {
    "name": "ipython",
    "version": 3
   },
   "file_extension": ".py",
   "mimetype": "text/x-python",
   "name": "python",
   "nbconvert_exporter": "python",
   "pygments_lexer": "ipython3",
   "version": "3.11.4"
  }
 },
 "nbformat": 4,
 "nbformat_minor": 5
}
