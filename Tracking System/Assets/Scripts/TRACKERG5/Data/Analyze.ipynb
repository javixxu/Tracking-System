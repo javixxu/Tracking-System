{
 "cells": [
  {
   "cell_type": "markdown",
   "id": "0459e81a-f424-4f7e-8ae1-72441e8093b4",
   "metadata": {},
   "source": [
    "# Calculo de las metricas en python"
   ]
  },
  {
   "cell_type": "markdown",
   "id": "61276248-64d2-45bc-8acb-8655716a3ae1",
   "metadata": {},
   "source": [
    "### Importacion de las librerias necesarias"
   ]
  },
  {
   "cell_type": "code",
   "execution_count": 4,
   "id": "d2f5fa59-3ab9-4c8f-b5fc-c394622d87c4",
   "metadata": {},
   "outputs": [],
   "source": [
    "import json\n",
    "import re\n",
    "import pandas as pd\n",
    "import matplotlib.pyplot as plt\n",
    "from datetime import datetime"
   ]
  },
  {
   "cell_type": "markdown",
   "id": "e2af12c0-e9f1-4538-95e2-399f449cc2e2",
   "metadata": {},
   "source": [
    "### Lectura del documento"
   ]
  },
  {
   "cell_type": "code",
   "execution_count": 7,
   "id": "67caf712-2d19-49dc-a10a-951037f42680",
   "metadata": {},
   "outputs": [],
   "source": [
    "# Ruta del archivo con los datos obtenidos por el \"Tracking system\"\n",
    "file_path = './RESULT.json'"
   ]
  },
  {
   "cell_type": "code",
   "execution_count": 17,
   "id": "8eab897f-12bc-4b03-9b61-0f2299c2b591",
   "metadata": {},
   "outputs": [
    {
     "name": "stdout",
     "output_type": "stream",
     "text": [
      "[{'id': '64a55472a03465b47adb66460a950fed4ca78e427be8dbb122f71ee4fb3ab44f', 'idLevel': 0, 'idSession': '7e201f0c2cb3679a52cf76fe0f3fb74bc27f67283f49619f7256c4c2e3d1c7aa', 'idUser': '49562dc51f833b120a5fa281ca787e3eb4be7369402b1eb72eb7453e172e20b8', 'timestamp': 1713946301159, 'typeEvent': 'LoginEvent'}, {'id': '16db91c4c77fa4620d0fb36600464517b2d3661e3194f8334728c3a2a6dbc4ca', 'idLevel': 0, 'idSession': '7e201f0c2cb3679a52cf76fe0f3fb74bc27f67283f49619f7256c4c2e3d1c7aa', 'idUser': '49562dc51f833b120a5fa281ca787e3eb4be7369402b1eb72eb7453e172e20b8', 'timestamp': 1713946306139, 'typeEvent': 'StartGameEvent'}, {'id': 'f871613d05335a244192e81eb383de912059680d4f1223d5d47507a1132a4d9a', 'idLevel': 0, 'idSession': '7e201f0c2cb3679a52cf76fe0f3fb74bc27f67283f49619f7256c4c2e3d1c7aa', 'idUser': '49562dc51f833b120a5fa281ca787e3eb4be7369402b1eb72eb7453e172e20b8', 'timestamp': 1713946349290, 'typeEvent': 'LoseShieldEvent'}, {'id': 'c0f1e40e46d02a87a5bf518cc89d64ba90892866e72ea6235c845075ab6a2057', 'idLevel': 0, 'idSession': '7e201f0c2cb3679a52cf76fe0f3fb74bc27f67283f49619f7256c4c2e3d1c7aa', 'idUser': '49562dc51f833b120a5fa281ca787e3eb4be7369402b1eb72eb7453e172e20b8', 'timestamp': 1713946359829, 'typeEvent': 'DeathEvent'}, {'id': '42e49b0520a073f9f04ee2170e41de97f9dbe4888d655551bf8f9bc2d793f74c', 'idLevel': 0, 'idSession': '7e201f0c2cb3679a52cf76fe0f3fb74bc27f67283f49619f7256c4c2e3d1c7aa', 'idUser': '49562dc51f833b120a5fa281ca787e3eb4be7369402b1eb72eb7453e172e20b8', 'timestamp': 1713946361848, 'typeEvent': 'DeathEvent'}, {'id': '1548172830a49a7f116d4b790fbd18201850e3532744d692ec687c5ae5c8efa2', 'idLevel': 0, 'idSession': '7e201f0c2cb3679a52cf76fe0f3fb74bc27f67283f49619f7256c4c2e3d1c7aa', 'idUser': '49562dc51f833b120a5fa281ca787e3eb4be7369402b1eb72eb7453e172e20b8', 'timestamp': 1713946371787, 'typeEvent': 'EndGameEvent'}, {'id': 'f2a362203c7369bafa7e9cb3840ff0767dfcf42fb72dc8c3101bce5b126211b7', 'idLevel': 0, 'idSession': '7e201f0c2cb3679a52cf76fe0f3fb74bc27f67283f49619f7256c4c2e3d1c7aa', 'idUser': '49562dc51f833b120a5fa281ca787e3eb4be7369402b1eb72eb7453e172e20b8', 'timestamp': 1713946372666, 'typeEvent': 'LogoutEvent'}, {'id': '288e40f48411275943065d4c1291de133fd17ba67e7107c0269e2e4b631249ac', 'idLevel': 0, 'idSession': '048804cdc2a2d8192937de108fd9857d8ec88bb0d1e35d932cc3934ca8d07e26', 'idUser': '49562dc51f833b120a5fa281ca787e3eb4be7369402b1eb72eb7453e172e20b8', 'timestamp': 1713946612028, 'typeEvent': 'LoginEvent'}, {'id': '288e40f48411275943065d4c1291de133fd17ba67e7107c0269e2e4b631249ac', 'idLevel': 0, 'idSession': '048804cdc2a2d8192937de108fd9857d8ec88bb0d1e35d932cc3934ca8d07e26', 'idUser': '49562dc51f833b120a5fa281ca787e3eb4be7369402b1eb72eb7453e172e20b8', 'timestamp': 1713946612029, 'typeEvent': 'LoseShieldEvent'}, {'id': '288e40f48411275943065d4c1291de133fd17ba67e7107c0269e2e4b631249ac', 'idLevel': 0, 'idSession': '048804cdc2a2d8192937de108fd9857d8ec88bb0d1e35d932cc3934ca8d07e26', 'idUser': '49562dc51f833b120a5fa281ca787e3eb4be7369402b1eb72eb7453e172e20b8', 'timestamp': 1713946612029, 'typeEvent': 'DeathEvent'}, {'id': '288e40f48411275943065d4c1291de133fd17ba67e7107c0269e2e4b631249ac', 'idLevel': 0, 'idSession': '048804cdc2a2d8192937de108fd9857d8ec88bb0d1e35d932cc3934ca8d07e26', 'idUser': '49562dc51f833b120a5fa281ca787e3eb4be7369402b1eb72eb7453e172e20b8', 'timestamp': 1713946612029, 'typeEvent': 'LogoutEvent'}]\n"
     ]
    }
   ],
   "source": [
    "# Abrir el archivo json y cargarlo en la variable data\n",
    "with open(file_path) as f:\n",
    "    data = json.load(f)\n",
    "\n",
    "# Función para convertir el formato de fecha específico de .NET a datetime de Python\n",
    "def parse_dotnet_datetime(dotnet_datetime):\n",
    "    parts = dotnet_datetime.split('(')\n",
    "    milliseconds = int(parts[1].split('+')[0])\n",
    "    \n",
    "    return milliseconds\n",
    "\n",
    "# Función para convertir las fechas en la lista de diccionarios\n",
    "def parse_json_with_dotnet_datetime(data):\n",
    "    for item in data:\n",
    "        if 'timestamp' in item:\n",
    "            item['timestamp'] = parse_dotnet_datetime(item['timestamp'])\n",
    "    return data\n",
    "\n",
    "# Deserializar JSON\n",
    "parsed_data = parse_json_with_dotnet_datetime(data)\n",
    "\n",
    "\n",
    "# Se ordena la información del json en base el timestamp\n",
    "sorted_data = sorted(data, key=lambda x: x['timestamp'])\n",
    "\n",
    "\n",
    "print(parsed_data)  # Esto mostrará el diccionario con la fecha convertida a datetime de Python"
   ]
  },
  {
   "cell_type": "code",
   "execution_count": null,
   "id": "9d0e2c1d-b5db-457b-9f15-ce20fa91d3e6",
   "metadata": {},
   "outputs": [
    {
     "name": "stdout",
     "output_type": "stream",
     "text": [
      "count         1.0\n",
      "mean     229048.0\n",
      "std           NaN\n",
      "min      229048.0\n",
      "25%      229048.0\n",
      "50%      229048.0\n",
      "75%      229048.0\n",
      "max      229048.0\n",
      "dtype: float64\n"
     ]
    }
   ],
   "source": [
    "# Longitud de cada sesion en milisegundos\n",
    "gameSessionLengthMs = []\n",
    "for currentEvent in sorted_data:\n",
    "    if currentEvent['typeEvent'] == \"LoginEvent\":\n",
    "        tsSessionStart = currentEvent['timestamp']\n",
    "        r = re.search(r'\\d+', tsSessionStart)\n",
    "        numeric_tsSessionStart = int(r.group())\n",
    "    if currentEvent['typeEvent'] == \"LogoutEvent\":\n",
    "        tsSessionEnd = currentEvent['timestamp']\n",
    "        r = re.search(r'\\d+', tsSessionEnd)\n",
    "        numeric_tsSessionEnd = int(r.group())\n",
    "        gameSessionLengthMs.append(numeric_tsSessionEnd- numeric_tsSessionStart)\n",
    "\n",
    "s = pd.Series(gameSessionLengthMs)\n",
    "#print(s.describe())"
   ]
  },
  {
   "cell_type": "code",
   "execution_count": null,
   "id": "4925764c-376e-43bc-bd29-51f3bb790fec",
   "metadata": {},
   "outputs": [
    {
     "data": {
      "text/plain": [
       "0    229048\n",
       "dtype: int64"
      ]
     },
     "execution_count": 18,
     "metadata": {},
     "output_type": "execute_result"
    }
   ],
   "source": [
    "s"
   ]
  },
  {
   "cell_type": "code",
   "execution_count": null,
   "id": "0c4c19c0-a5a2-44fc-b765-4dd91e7a0a77",
   "metadata": {},
   "outputs": [],
   "source": [
    "index = 0\n",
    "num_events = len(sorted_data)\n",
    "\n",
    "while index < num_events:\n",
    "    currentEvent = sorted_data[index]\n",
    "    consumeEvent = currentContext.parseEvent(currentEvent)\n",
    "    if consumeEvent:\n",
    "        index+=1"
   ]
  },
  {
   "cell_type": "code",
   "execution_count": null,
   "id": "f731e4ab-0d6b-4874-833a-db639e194673",
   "metadata": {},
   "outputs": [],
   "source": [
    "#def parseEvent(event):\n",
    "    "
   ]
  }
 ],
 "metadata": {
  "kernelspec": {
   "display_name": "Python 3 (ipykernel)",
   "language": "python",
   "name": "python3"
  },
  "language_info": {
   "codemirror_mode": {
    "name": "ipython",
    "version": 3
   },
   "file_extension": ".py",
   "mimetype": "text/x-python",
   "name": "python",
   "nbconvert_exporter": "python",
   "pygments_lexer": "ipython3",
   "version": "3.11.9"
  }
 },
 "nbformat": 4,
 "nbformat_minor": 5
}
