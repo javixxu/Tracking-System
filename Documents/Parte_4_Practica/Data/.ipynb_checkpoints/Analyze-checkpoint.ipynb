{
 "cells": [
  {
   "cell_type": "markdown",
   "id": "0459e81a-f424-4f7e-8ae1-72441e8093b4",
   "metadata": {},
   "source": [
    "# Calculo de las metricas de un json"
   ]
  },
  {
   "cell_type": "code",
   "execution_count": 1,
   "id": "fe5effb5-fe6b-4c27-8a1f-216aa6f1cd0e",
   "metadata": {},
   "outputs": [],
   "source": [
    "class Game():\n",
    "    \"\"\"Almacena informacion sobre una partida:\n",
    "    - When the level starts and ends and its lenght\n",
    "    - The event result\n",
    "    - Player deaths during this level\n",
    "    \"\"\"\n",
    "    def __init__(self, id, tsStart):\n",
    "        \"\"\"Constructor\n",
    "        \"\"\"\n",
    "        self.id = id\n",
    "        self.tsLevelStart = tsStart\n",
    "        self.levelLengthMs = 0\n",
    "        self.shields = 0    \n",
    "        self.deaths = 0\n",
    "\n",
    "    def addDeath(self):\n",
    "        self.deaths += 1\n",
    "    \n",
    "    def addShield(self):\n",
    "        self.shields += 1\n",
    "\n",
    "    def calculateTime (self, endTime):\n",
    "        self.levelLengthMs = endTime - self.tsLevelStart\n"
   ]
  },
  {
   "cell_type": "markdown",
   "id": "61276248-64d2-45bc-8acb-8655716a3ae1",
   "metadata": {},
   "source": [
    "### Importacion de las librerias necesarias"
   ]
  },
  {
   "cell_type": "code",
   "execution_count": 2,
   "id": "d2f5fa59-3ab9-4c8f-b5fc-c394622d87c4",
   "metadata": {},
   "outputs": [],
   "source": [
    "import json\n",
    "import re\n",
    "import pandas as pd\n",
    "import numpy as np"
   ]
  },
  {
   "cell_type": "markdown",
   "id": "e2af12c0-e9f1-4538-95e2-399f449cc2e2",
   "metadata": {},
   "source": [
    "### Lectura del documento"
   ]
  },
  {
   "cell_type": "code",
   "execution_count": 3,
   "id": "67caf712-2d19-49dc-a10a-951037f42680",
   "metadata": {},
   "outputs": [],
   "source": [
    "# Ruta del archivo con los datos obtenidos por el \"Tracking system\"\n",
    "file_path = './RESULT.json'"
   ]
  },
  {
   "cell_type": "code",
   "execution_count": 4,
   "id": "8eab897f-12bc-4b03-9b61-0f2299c2b591",
   "metadata": {},
   "outputs": [],
   "source": [
    "# Abrir el archivo json y cargarlo en la variable data\n",
    "with open(file_path) as f:\n",
    "    data = json.load(f)\n",
    "\n",
    "# Se ordena la información del documento en base el timestamp\n",
    "sorted_data = sorted(data, key=lambda x: x['timestamp'])"
   ]
  },
  {
   "cell_type": "markdown",
   "id": "940f3da9-f559-436a-a621-a35118d38569",
   "metadata": {},
   "source": [
    "### Duraciones de cada sesion"
   ]
  },
  {
   "cell_type": "code",
   "execution_count": 5,
   "id": "9d0e2c1d-b5db-457b-9f15-ce20fa91d3e6",
   "metadata": {},
   "outputs": [
    {
     "data": {
      "text/plain": [
       "0    379089\n",
       "dtype: int64"
      ]
     },
     "execution_count": 5,
     "metadata": {},
     "output_type": "execute_result"
    }
   ],
   "source": [
    "# Longitud de cada sesion en milisegundos\n",
    "sessionLengthMs = []\n",
    "for currentEvent in sorted_data:\n",
    "    if currentEvent['typeEvent'] == \"LoginEvent\":\n",
    "        tsSessionStart = currentEvent['timestamp']\n",
    "        r = re.search(r'\\d+', tsSessionStart)\n",
    "        numeric_tsSessionStart = int(r.group())\n",
    "    if currentEvent['typeEvent'] == \"LogoutEvent\":\n",
    "        tsSessionEnd = currentEvent['timestamp']\n",
    "        r = re.search(r'\\d+', tsSessionEnd)\n",
    "        numeric_tsSessionEnd = int(r.group())\n",
    "        sessionLengthMs.append(numeric_tsSessionEnd- numeric_tsSessionStart)\n",
    "\n",
    "s = pd.Series(sessionLengthMs)\n",
    "#print(s.describe())\n",
    "s"
   ]
  },
  {
   "cell_type": "markdown",
   "id": "3bb64dc8-2b24-43cf-8f59-f63aa7969c2a",
   "metadata": {},
   "source": [
    "### Calculo de las metricas"
   ]
  },
  {
   "cell_type": "markdown",
   "id": "f1e7837f-40a1-4f94-91a3-0bb2dcf88dd6",
   "metadata": {},
   "source": [
    "Las metricas a tener en cuenta son:\n",
    "- Numero de muertes por partida\n",
    "- Numero de veces que se pierde el escudo por nivel\n",
    "- Tiempo en complentar una partida\n",
    "\n",
    "Adicionalmete se ha añadido las muertes totales y numero de perdidas de escudo por sesion"
   ]
  },
  {
   "cell_type": "code",
   "execution_count": 6,
   "id": "403eca98-ffa8-415a-87b9-0efe4865a15c",
   "metadata": {},
   "outputs": [],
   "source": [
    "game_list = []\n",
    "index_game = 0\n",
    "sesion = 0\n",
    "# Indice de eventos\n",
    "index = 0\n",
    "# Numero total de eventos\n",
    "num_events = len(sorted_data)\n",
    "# Lista de muertes para hacer la media\n",
    "death_list = []\n",
    "# Lista de escudos para hacer la media\n",
    "shield_list = []\n",
    "\n",
    "level = 0\n",
    "shields_per_level = 0"
   ]
  },
  {
   "cell_type": "code",
   "execution_count": 7,
   "id": "a174592d-e7c2-4b15-87da-7365c219b975",
   "metadata": {},
   "outputs": [],
   "source": [
    "def parseEvent(event):\n",
    "    global index_game\n",
    "    global game_list\n",
    "    global sesion\n",
    "    global death_list\n",
    "    global shield_list\n",
    "    global level\n",
    "    global shields_per_level\n",
    "    if event['typeEvent'] == \"LoginEvent\":\n",
    "        print(\"\\nInicio de sesion: \", sesion)\n",
    "    elif event['typeEvent'] == \"LogoutEvent\":\n",
    "        shields = 0\n",
    "        deaths = 0\n",
    "        for game in game_list:\n",
    "            shields += game.shields\n",
    "            deaths += game.deaths\n",
    "            death_list.append(game.deaths)\n",
    "            shield_list.append(game.shields)\n",
    "        print(\"Perdidas de escudo en total: \", shields, \"\\nMuertes en total: \", deaths)\n",
    "        print(\"\\nFin de sesion: \", sesion)\n",
    "        sesion += 1\n",
    "    # Empieza la partida\n",
    "    elif event['typeEvent'] == \"StartGameEvent\":\n",
    "        r = re.search(r'\\d+', event['timestamp'])\n",
    "        #game_list.insert(index_game, Game(event[\"idLevel\"], int(r.group())))\n",
    "        game_list.append(Game(event[\"idLevel\"], int(r.group())))\n",
    "        shields_per_level = 0\n",
    "        print(\"\\nPartida: \", index_game, )\n",
    "    # Acaba la partida\n",
    "    elif event['typeEvent'] == \"EndGameEvent\":\n",
    "        r = re.search(r'\\d+', event['timestamp'])\n",
    "        tsEndTime = int(r.group())\n",
    "        game_list[index_game].calculateTime(tsEndTime)\n",
    "\n",
    "        print(\"  Duración: \", game_list[index_game].levelLengthMs, \"\\n  Muertes: \", game_list[index_game].deaths, \"\\n  Perdidas de escudo: \", game_list[index_game].shields)\n",
    "        print(\"  Nivel: \", level, \", escudos perdidos: \", shields_per_level)\n",
    "        level = 0\n",
    "        index_game += 1\n",
    "    elif event['typeEvent'] == \"LoseShieldEvent\":\n",
    "        game_list[index_game].addShield()\n",
    "        shields_per_level +=1 \n",
    "    elif event['typeEvent'] == \"DeathEvent\":\n",
    "        game_list[index_game].addDeath()\n",
    "        print(\"  Nivel: \", level, \", escudos perdidos: \", shields_per_level)\n",
    "        shields_per_level = 0\n",
    "        level +=1 \n",
    "    return  True"
   ]
  },
  {
   "cell_type": "code",
   "execution_count": 8,
   "id": "0c4c19c0-a5a2-44fc-b765-4dd91e7a0a77",
   "metadata": {},
   "outputs": [
    {
     "name": "stdout",
     "output_type": "stream",
     "text": [
      "\n",
      "Inicio de sesion:  0\n",
      "\n",
      "Partida:  0\n",
      "  Duración:  105530 \n",
      "  Muertes:  0 \n",
      "  Perdidas de escudo:  1\n",
      "  Nivel:  0 , escudos perdidos:  1\n",
      "\n",
      "Partida:  1\n",
      "  Duración:  98677 \n",
      "  Muertes:  0 \n",
      "  Perdidas de escudo:  3\n",
      "  Nivel:  0 , escudos perdidos:  3\n",
      "\n",
      "Partida:  2\n",
      "  Nivel:  0 , escudos perdidos:  1\n",
      "  Nivel:  1 , escudos perdidos:  1\n",
      "  Nivel:  2 , escudos perdidos:  1\n",
      "  Duración:  141530 \n",
      "  Muertes:  3 \n",
      "  Perdidas de escudo:  3\n",
      "  Nivel:  3 , escudos perdidos:  0\n",
      "Perdidas de escudo en total:  7 \n",
      "Muertes en total:  3\n",
      "\n",
      "Fin de sesion:  0\n"
     ]
    }
   ],
   "source": [
    "# Recorro todos los eventos generados\n",
    "while index < num_events:\n",
    "    currentEvent = sorted_data[index]\n",
    "    consumeEvent = parseEvent(currentEvent)\n",
    "    index += 1"
   ]
  },
  {
   "cell_type": "markdown",
   "id": "ff6e4aa4-86a7-4530-9588-5c5233eac11c",
   "metadata": {},
   "source": [
    "### Medias"
   ]
  },
  {
   "cell_type": "markdown",
   "id": "2b2d5dfb-62c8-4ec7-af52-c80234587968",
   "metadata": {},
   "source": [
    "Esto implica todas las sesiones y partidas, es la media total"
   ]
  },
  {
   "cell_type": "code",
   "execution_count": 9,
   "id": "f9a81922-4695-4cc2-ac0e-d9647ffcdcf8",
   "metadata": {},
   "outputs": [
    {
     "name": "stdout",
     "output_type": "stream",
     "text": [
      "\n",
      "Media de muertes: 1.0\n",
      "Media de perdidas de escudo: 2.3333333333333335\n"
     ]
    }
   ],
   "source": [
    "mean = np.mean(death_list)\n",
    "print(\"\\nMedia de muertes:\", mean)\n",
    "mean = np.mean(shield_list)\n",
    "print(\"Media de perdidas de escudo:\", mean)"
   ]
  },
  {
   "cell_type": "markdown",
   "id": "fe6ad200",
   "metadata": {},
   "source": [
    "### Análisis de los resultados"
   ]
  },
  {
   "cell_type": "markdown",
   "id": "316e287c",
   "metadata": {},
   "source": [
    "A continuación se compararán los resultados obtenidos con las hipótesis que fueron planteadas inicialmente en el diseño de evaluación.\n",
    "\n",
    "Nuestro objetivo es saber si el nivel \"intermedio\" de los niveles seleccionables del juego tiene la dificultad adecuada.\n",
    "\n",
    "Estas son nuestras preguntas de investigación:\n",
    "- La partida estará comprendida entre 1,3 y 2 minutos de media.\n",
    "- El jugador durante una partida, morirá entre 2 y 6.\n",
    "- El jugador durante una partida, se chocará con el escudo equipado, entre 1 y 3 veces de media, por nivel.\n",
    "\n",
    "En base a estas preguntas, se comprobará que los datos se encuentren dentro del rango esperado a través de los datos obtenidos:\n",
    "- **Duración de la partida**: Según los datos, la partida durará 1,92 minutos de media, entrando esta cifra dentro de la cantidad prevista y confirmando nuestra hipótesis.\n",
    "- **Muertes por partida**: Como se puede observar en el gráfico, tanto en la primera y segunda partida, el jugador no muere. No obstante, en la tercera partida muere un total de 3 veces, obteniendo que los datos son dispares entre sí y que mayoría de ellos no entran dentro del rango.\n",
    "- **Pérdida de escudo**: En base a los resultados obtenidos, el jugador pierde el escudo 2'3 veces de media. Se puede comprobar que esta cifra entra dentro de la cantidad prevista.\n",
    "\n",
    "En conclusión, se puede ver que los resultados obtenidos concuerdan con los datos que se habían propuesto inicialmente, confirmando que la dificultad del nivel es la adecuada. Sin embargo, la métrica de muertes por partida es la más disonante de todas puesto que en las primeras partidas el jugador no muere, dando a entender que el aprendizaje puede no ser progresivo, y, que el hecho de que el diseño de los niveles sea aleatorio influya en esto. Por tanto, habría que revisar los niveles de nuevo para que el número de muertes por partida esté en equilibrio."
   ]
  },
  {
   "cell_type": "code",
   "execution_count": null,
   "id": "f1b88689",
   "metadata": {},
   "outputs": [],
   "source": []
  }
 ],
 "metadata": {
  "kernelspec": {
   "display_name": "Python 3 (ipykernel)",
   "language": "python",
   "name": "python3"
  },
  "language_info": {
   "codemirror_mode": {
    "name": "ipython",
    "version": 3
   },
   "file_extension": ".py",
   "mimetype": "text/x-python",
   "name": "python",
   "nbconvert_exporter": "python",
   "pygments_lexer": "ipython3",
   "version": "3.11.4"
  }
 },
 "nbformat": 4,
 "nbformat_minor": 5
}
