{
 "cells": [
  {
   "cell_type": "markdown",
   "id": "0459e81a-f424-4f7e-8ae1-72441e8093b4",
   "metadata": {},
   "source": [
    "# Calculo de las metricas de un json"
   ]
  },
  {
   "cell_type": "code",
   "execution_count": 45,
   "id": "fe5effb5-fe6b-4c27-8a1f-216aa6f1cd0e",
   "metadata": {},
   "outputs": [],
   "source": [
    "class Game():\n",
    "    \"\"\"Almacena informacion sobre una partida:\n",
    "    - When the level starts and ends and its lenght\n",
    "    - The event result\n",
    "    - Player deaths during this level\n",
    "    \"\"\"\n",
    "    def __init__(self, id, tsStart):\n",
    "        \"\"\"Constructor\n",
    "        \"\"\"\n",
    "        self.id = id\n",
    "        self.tsLevelStart = tsStart\n",
    "        self.levelLengthMs = 0\n",
    "        self.shields = 0    \n",
    "        self.deaths = 0\n",
    "\n",
    "    def addDeath(self):\n",
    "        self.deaths += 1\n",
    "    \n",
    "    def addShield(self):\n",
    "        self.shields += 1\n",
    "\n",
    "    def calculateTime (self, endTime):\n",
    "        self.levelLengthMs = endTime - self.tsLevelStart\n"
   ]
  },
  {
   "cell_type": "markdown",
   "id": "61276248-64d2-45bc-8acb-8655716a3ae1",
   "metadata": {},
   "source": [
    "### Importacion de las librerias necesarias"
   ]
  },
  {
   "cell_type": "code",
   "execution_count": 46,
   "id": "d2f5fa59-3ab9-4c8f-b5fc-c394622d87c4",
   "metadata": {},
   "outputs": [],
   "source": [
    "import os\n",
    "import json\n",
    "import pandas as pd\n",
    "import numpy as np\n",
    "import matplotlib.pyplot as plt"
   ]
  },
  {
   "cell_type": "markdown",
   "id": "e2af12c0-e9f1-4538-95e2-399f449cc2e2",
   "metadata": {},
   "source": [
    "### Lectura del documento"
   ]
  },
  {
   "cell_type": "code",
   "execution_count": 47,
   "id": "67caf712-2d19-49dc-a10a-951037f42680",
   "metadata": {},
   "outputs": [],
   "source": [
    "# Ruta de los archivos con los datos obtenidos por el \"Tracking system\"\n",
    "path = '../DataTracker'"
   ]
  },
  {
   "cell_type": "code",
   "execution_count": 48,
   "id": "c8c3fdad-e051-4376-a631-15348b1e24c0",
   "metadata": {},
   "outputs": [],
   "source": [
    "def loadJsonData(path):\n",
    "    jsonData = []\n",
    "    \n",
    "    # Obtener lista de archivos en la carpeta\n",
    "    jsonFiles = os.listdir(path)\n",
    "    \n",
    "    # Recorrer y filtrar solo los archivos JSON\n",
    "    for file in jsonFiles:\n",
    "        if file.endswith('.json'):\n",
    "            ruta_archivo = os.path.join(path, file)\n",
    "            \n",
    "            # Leer el contenido del archivo JSON\n",
    "            with open(ruta_archivo, 'r', encoding='utf-8') as f:\n",
    "                info = json.load(f)\n",
    "                jsonData.extend(info)\n",
    "    \n",
    "    return jsonData"
   ]
  },
  {
   "cell_type": "code",
   "execution_count": 49,
   "id": "8eab897f-12bc-4b03-9b61-0f2299c2b591",
   "metadata": {},
   "outputs": [
    {
     "data": {
      "text/plain": [
       "[{'id': 'eb0fbf1e85ee44af75071dbe1e7330693f12eac75ed872e3cc05e53263410784',\n",
       "  'idLevel': 0,\n",
       "  'idSession': 'eb0fbf1e85ee44af75071dbe1e7330693f12eac75ed872e3cc05e53263410784',\n",
       "  'idUser': 'af25df128a73a551a6b6bc574d3f165f',\n",
       "  'timestamp': 1718295557,\n",
       "  'typeEvent': 'LoginEvent'},\n",
       " {'id': 'a4c63c68a5f77189f891b5e55a2e346199079a2b2620163c90a0f7a5a659b8a1',\n",
       "  'idLevel': 0,\n",
       "  'idSession': 'eb0fbf1e85ee44af75071dbe1e7330693f12eac75ed872e3cc05e53263410784',\n",
       "  'idUser': 'af25df128a73a551a6b6bc574d3f165f',\n",
       "  'timestamp': 1718295562,\n",
       "  'typeEvent': 'StartGameEvent'},\n",
       " {'id': '19dc912060ccb73886589b83267683b41879b663f7ef3b46222753f8da311467',\n",
       "  'idLevel': 0,\n",
       "  'idSession': 'eb0fbf1e85ee44af75071dbe1e7330693f12eac75ed872e3cc05e53263410784',\n",
       "  'idUser': 'af25df128a73a551a6b6bc574d3f165f',\n",
       "  'timestamp': 1718295572,\n",
       "  'typeEvent': 'LoseShieldEvent'},\n",
       " {'id': '1133dd314c0dc2463659fb4189c72beb68f0894505f80dfdc6a1f5f7726db8c5',\n",
       "  'idLevel': 0,\n",
       "  'idSession': 'eb0fbf1e85ee44af75071dbe1e7330693f12eac75ed872e3cc05e53263410784',\n",
       "  'idUser': 'af25df128a73a551a6b6bc574d3f165f',\n",
       "  'timestamp': 1718295592,\n",
       "  'typeEvent': 'LoseShieldEvent'},\n",
       " {'id': 'b7d033284f0a530427b8004087e6275ac5ff2e2a8d4f0c09a90b782fc61c7084',\n",
       "  'idLevel': 0,\n",
       "  'idSession': 'eb0fbf1e85ee44af75071dbe1e7330693f12eac75ed872e3cc05e53263410784',\n",
       "  'idUser': 'af25df128a73a551a6b6bc574d3f165f',\n",
       "  'timestamp': 1718295603,\n",
       "  'typeEvent': 'DeathEvent'},\n",
       " {'id': '3d5c961c0d0e80dc6c8fa836cdef56501b47a3303f40a9d7d813ba936240fbd5',\n",
       "  'idLevel': 0,\n",
       "  'idSession': 'eb0fbf1e85ee44af75071dbe1e7330693f12eac75ed872e3cc05e53263410784',\n",
       "  'idUser': 'af25df128a73a551a6b6bc574d3f165f',\n",
       "  'timestamp': 1718295616,\n",
       "  'typeEvent': 'LoseShieldEvent'},\n",
       " {'id': '73c485d5f5df78fd774c0cc8e56be01a83d3d5ac186ffccdb567f5cebce98947',\n",
       "  'idLevel': 0,\n",
       "  'idSession': 'eb0fbf1e85ee44af75071dbe1e7330693f12eac75ed872e3cc05e53263410784',\n",
       "  'idUser': 'af25df128a73a551a6b6bc574d3f165f',\n",
       "  'timestamp': 1718295668,\n",
       "  'typeEvent': 'LoseShieldEvent'},\n",
       " {'id': '9994ca1677bbf7a541bd1bb8cb28823df2abf7f18c01f2dc4e2cbb1f3e01a387',\n",
       "  'idLevel': 0,\n",
       "  'idSession': 'eb0fbf1e85ee44af75071dbe1e7330693f12eac75ed872e3cc05e53263410784',\n",
       "  'idUser': 'af25df128a73a551a6b6bc574d3f165f',\n",
       "  'timestamp': 1718295675,\n",
       "  'typeEvent': 'DeathEvent'},\n",
       " {'id': '6407552d550051856c1aa3f1fa56c585112b8d4f49ecbbad6ec52be4dc5a402f',\n",
       "  'idLevel': 0,\n",
       "  'idSession': 'eb0fbf1e85ee44af75071dbe1e7330693f12eac75ed872e3cc05e53263410784',\n",
       "  'idUser': 'af25df128a73a551a6b6bc574d3f165f',\n",
       "  'timestamp': 1718295742,\n",
       "  'typeEvent': 'LoseShieldEvent'},\n",
       " {'id': '3fb790c07a5d0d624c9910c1c1d251495e8cc9cdcfcb867c4b776109db51ceda',\n",
       "  'idLevel': 0,\n",
       "  'idSession': 'eb0fbf1e85ee44af75071dbe1e7330693f12eac75ed872e3cc05e53263410784',\n",
       "  'idUser': 'af25df128a73a551a6b6bc574d3f165f',\n",
       "  'timestamp': 1718295747,\n",
       "  'typeEvent': 'DeathEvent'},\n",
       " {'id': '3fb790c07a5d0d624c9910c1c1d251495e8cc9cdcfcb867c4b776109db51ceda',\n",
       "  'idLevel': 0,\n",
       "  'idSession': 'eb0fbf1e85ee44af75071dbe1e7330693f12eac75ed872e3cc05e53263410784',\n",
       "  'idUser': 'af25df128a73a551a6b6bc574d3f165f',\n",
       "  'timestamp': 1718295747,\n",
       "  'typeEvent': 'EndGameEvent'},\n",
       " {'id': 'e52836057af9123fd780d2997cd60861b190219bd86a19257aa63946c4b60654',\n",
       "  'idLevel': 0,\n",
       "  'idSession': 'eb0fbf1e85ee44af75071dbe1e7330693f12eac75ed872e3cc05e53263410784',\n",
       "  'idUser': 'af25df128a73a551a6b6bc574d3f165f',\n",
       "  'timestamp': 1718295754,\n",
       "  'typeEvent': 'LogoutEvent'},\n",
       " {'id': 'bdd7c84687a527193b9077135aeb4740ece0c8124ffa204963cc9c7257bb4dee',\n",
       "  'idLevel': 0,\n",
       "  'idSession': 'bdd7c84687a527193b9077135aeb4740ece0c8124ffa204963cc9c7257bb4dee',\n",
       "  'idUser': 'af25df128a73a551a6b6bc574d3f165f',\n",
       "  'timestamp': 1718295864,\n",
       "  'typeEvent': 'LoginEvent'},\n",
       " {'id': 'e543a1d0ba8db298ca5fc5679cd3a6b41115d8e48e66d28fc7983d7f2da2e521',\n",
       "  'idLevel': 0,\n",
       "  'idSession': 'bdd7c84687a527193b9077135aeb4740ece0c8124ffa204963cc9c7257bb4dee',\n",
       "  'idUser': 'af25df128a73a551a6b6bc574d3f165f',\n",
       "  'timestamp': 1718295871,\n",
       "  'typeEvent': 'StartGameEvent'},\n",
       " {'id': 'b622962c59d01e714b5c073075cde2a7155d5567646bfb13b9aeef9c6040c289',\n",
       "  'idLevel': 0,\n",
       "  'idSession': 'bdd7c84687a527193b9077135aeb4740ece0c8124ffa204963cc9c7257bb4dee',\n",
       "  'idUser': 'af25df128a73a551a6b6bc574d3f165f',\n",
       "  'timestamp': 1718295898,\n",
       "  'typeEvent': 'LoseShieldEvent'},\n",
       " {'id': 'd1fa77567ff15169e06bb3d61b67519fee4bc13e699618a320f0941c6ce76b40',\n",
       "  'idLevel': 0,\n",
       "  'idSession': 'bdd7c84687a527193b9077135aeb4740ece0c8124ffa204963cc9c7257bb4dee',\n",
       "  'idUser': 'af25df128a73a551a6b6bc574d3f165f',\n",
       "  'timestamp': 1718295910,\n",
       "  'typeEvent': 'LoseShieldEvent'},\n",
       " {'id': '3fdf2cd2f13f5aa408c248d2ef6e34d4890af829073f7ea5b6c83083e63b9a4c',\n",
       "  'idLevel': 0,\n",
       "  'idSession': 'bdd7c84687a527193b9077135aeb4740ece0c8124ffa204963cc9c7257bb4dee',\n",
       "  'idUser': 'af25df128a73a551a6b6bc574d3f165f',\n",
       "  'timestamp': 1718295923,\n",
       "  'typeEvent': 'LoseShieldEvent'},\n",
       " {'id': '59a7026fc445a2a232bf0d7ebb4ce72c1f21f60e8b0762e0de32b9655e848e14',\n",
       "  'idLevel': 0,\n",
       "  'idSession': 'bdd7c84687a527193b9077135aeb4740ece0c8124ffa204963cc9c7257bb4dee',\n",
       "  'idUser': 'af25df128a73a551a6b6bc574d3f165f',\n",
       "  'timestamp': 1718295940,\n",
       "  'typeEvent': 'LoseShieldEvent'},\n",
       " {'id': 'f5f39f5c9cae5245d523458cd9dfab8e66f346e971dd9b2eee802104fb935fa3',\n",
       "  'idLevel': 0,\n",
       "  'idSession': 'bdd7c84687a527193b9077135aeb4740ece0c8124ffa204963cc9c7257bb4dee',\n",
       "  'idUser': 'af25df128a73a551a6b6bc574d3f165f',\n",
       "  'timestamp': 1718295962,\n",
       "  'typeEvent': 'LoseShieldEvent'},\n",
       " {'id': '4b9cde49ec2961a4a332c347528b6f2a4a0c0595d6c414b7a3dbd6ffab8099c2',\n",
       "  'idLevel': 0,\n",
       "  'idSession': 'bdd7c84687a527193b9077135aeb4740ece0c8124ffa204963cc9c7257bb4dee',\n",
       "  'idUser': 'af25df128a73a551a6b6bc574d3f165f',\n",
       "  'timestamp': 1718295976,\n",
       "  'typeEvent': 'EndGameEvent'},\n",
       " {'id': '84a10a987a6417222a824f21238106d4632c4797706b9c12452affcb498d45b0',\n",
       "  'idLevel': 0,\n",
       "  'idSession': 'bdd7c84687a527193b9077135aeb4740ece0c8124ffa204963cc9c7257bb4dee',\n",
       "  'idUser': 'af25df128a73a551a6b6bc574d3f165f',\n",
       "  'timestamp': 1718295984,\n",
       "  'typeEvent': 'LogoutEvent'}]"
      ]
     },
     "execution_count": 49,
     "metadata": {},
     "output_type": "execute_result"
    }
   ],
   "source": [
    "# Leer los archivos JSON y obtener su información\n",
    "data = loadJsonData(path)\n",
    "\n",
    "# Se ordena la información del documento en base el timestamp\n",
    "sorted_data = sorted(data, key=lambda x: x['timestamp'])\n",
    "sorted_data"
   ]
  },
  {
   "cell_type": "markdown",
   "id": "940f3da9-f559-436a-a621-a35118d38569",
   "metadata": {},
   "source": [
    "### Duraciones de cada sesion"
   ]
  },
  {
   "cell_type": "code",
   "execution_count": 50,
   "id": "9d0e2c1d-b5db-457b-9f15-ce20fa91d3e6",
   "metadata": {},
   "outputs": [
    {
     "data": {
      "text/plain": [
       "0    197\n",
       "1    120\n",
       "dtype: int64"
      ]
     },
     "execution_count": 50,
     "metadata": {},
     "output_type": "execute_result"
    }
   ],
   "source": [
    "# Longitud de cada sesion en milisegundos\n",
    "sessionLengthMs = []\n",
    "for currentEvent in sorted_data:\n",
    "    if currentEvent['typeEvent'] == \"LoginEvent\":\n",
    "        tsSessionStart = currentEvent['timestamp']\n",
    "    if currentEvent['typeEvent'] == \"LogoutEvent\":\n",
    "        tsSessionEnd = currentEvent['timestamp']\n",
    "        sessionLengthMs.append(tsSessionEnd- tsSessionStart)\n",
    "\n",
    "s = pd.Series(sessionLengthMs)\n",
    "#print(s.describe())\n",
    "s"
   ]
  },
  {
   "cell_type": "markdown",
   "id": "3bb64dc8-2b24-43cf-8f59-f63aa7969c2a",
   "metadata": {},
   "source": [
    "### Calculo de las metricas"
   ]
  },
  {
   "cell_type": "markdown",
   "id": "f1e7837f-40a1-4f94-91a3-0bb2dcf88dd6",
   "metadata": {},
   "source": [
    "Las metricas a tener en cuenta son:\n",
    "- Numero de muertes por partida\n",
    "- Numero de veces que se pierde el escudo por nivel\n",
    "- Tiempo en complentar una partida\n",
    "\n",
    "Adicionalmete se ha añadido las muertes totales y numero de perdidas de escudo por sesion"
   ]
  },
  {
   "cell_type": "code",
   "execution_count": 51,
   "id": "403eca98-ffa8-415a-87b9-0efe4865a15c",
   "metadata": {},
   "outputs": [],
   "source": [
    "game_list = []\n",
    "index_game = 0\n",
    "sesion = 0\n",
    "# Indice de eventos\n",
    "index = 0\n",
    "# Numero total de eventos\n",
    "num_events = len(sorted_data)\n",
    "# Lista de muertes para hacer la media\n",
    "death_list = []\n",
    "# Lista de escudos para hacer la media\n",
    "shield_list = []\n",
    "\n",
    "level = 0\n",
    "shields_per_level = 0"
   ]
  },
  {
   "cell_type": "code",
   "execution_count": 52,
   "id": "a174592d-e7c2-4b15-87da-7365c219b975",
   "metadata": {},
   "outputs": [],
   "source": [
    "duration = []\n",
    "deathCount = []\n",
    "\n",
    "def parseEvent(event):\n",
    "    global index_game\n",
    "    global game_list\n",
    "    global sesion\n",
    "    global death_list\n",
    "    global shield_list\n",
    "    global level\n",
    "    global shields_per_level\n",
    "    if event['typeEvent'] == \"LoginEvent\":\n",
    "        print(\"\\nInicio de sesion: \", sesion)\n",
    "    elif event['typeEvent'] == \"LogoutEvent\":\n",
    "        shields = 0\n",
    "        deaths = 0\n",
    "        for game in game_list:\n",
    "            shields += game.shields\n",
    "            deaths += game.deaths\n",
    "            death_list.append(game.deaths)\n",
    "            shield_list.append(game.shields)\n",
    "        print(\"Perdidas de escudo en total: \", shields, \"\\nMuertes en total: \", deaths)\n",
    "        print(\"\\nFin de sesion: \", sesion)\n",
    "        sesion += 1\n",
    "    # Empieza la partida\n",
    "    elif event['typeEvent'] == \"StartGameEvent\":\n",
    "        game_list.append(Game(event[\"idLevel\"], event['timestamp']))\n",
    "        shields_per_level = 0\n",
    "        print(\"\\nPartida: \", index_game, )\n",
    "    # Acaba la partida\n",
    "    elif event['typeEvent'] == \"EndGameEvent\":\n",
    "        tsEndTime = event['timestamp']\n",
    "        game_list[index_game].calculateTime(tsEndTime)\n",
    "        duration.append(game_list[index_game].levelLengthMs)\n",
    "\n",
    "        print(\"  Duración: \", game_list[index_game].levelLengthMs, \"\\n  Muertes: \", game_list[index_game].deaths, \"\\n  Perdidas de escudo: \", game_list[index_game].shields)\n",
    "        print(\"  Nivel: \", level, \", escudos perdidos: \", shields_per_level)\n",
    "        level = 0\n",
    "        index_game += 1\n",
    "    elif event['typeEvent'] == \"LoseShieldEvent\":\n",
    "        game_list[index_game].addShield()\n",
    "        shields_per_level +=1 \n",
    "    elif event['typeEvent'] == \"DeathEvent\":\n",
    "        game_list[index_game].addDeath()\n",
    "        print(\"  Nivel: \", level, \", escudos perdidos: \", shields_per_level)\n",
    "        shields_per_level = 0\n",
    "        level +=1 \n",
    "    return  True"
   ]
  },
  {
   "cell_type": "code",
   "execution_count": 53,
   "id": "0c4c19c0-a5a2-44fc-b765-4dd91e7a0a77",
   "metadata": {},
   "outputs": [
    {
     "name": "stdout",
     "output_type": "stream",
     "text": [
      "\n",
      "Inicio de sesion:  0\n",
      "\n",
      "Partida:  0\n",
      "  Nivel:  0 , escudos perdidos:  2\n",
      "  Nivel:  1 , escudos perdidos:  2\n",
      "  Nivel:  2 , escudos perdidos:  1\n",
      "  Duración:  185 \n",
      "  Muertes:  3 \n",
      "  Perdidas de escudo:  5\n",
      "  Nivel:  3 , escudos perdidos:  0\n",
      "Perdidas de escudo en total:  5 \n",
      "Muertes en total:  3\n",
      "\n",
      "Fin de sesion:  0\n",
      "\n",
      "Inicio de sesion:  1\n",
      "\n",
      "Partida:  1\n",
      "  Duración:  105 \n",
      "  Muertes:  0 \n",
      "  Perdidas de escudo:  5\n",
      "  Nivel:  0 , escudos perdidos:  5\n",
      "Perdidas de escudo en total:  10 \n",
      "Muertes en total:  3\n",
      "\n",
      "Fin de sesion:  1\n"
     ]
    }
   ],
   "source": [
    "# Recorro todos los eventos generados\n",
    "while index < num_events:\n",
    "    currentEvent = sorted_data[index]\n",
    "    consumeEvent = parseEvent(currentEvent)\n",
    "    index += 1"
   ]
  },
  {
   "cell_type": "code",
   "execution_count": 54,
   "id": "0670d7e0",
   "metadata": {},
   "outputs": [
    {
     "data": {
      "image/png": "[encoded data removed]",
      "text/plain": [
       "<Figure size 800x500 with 1 Axes>"
      ]
     },
     "metadata": {},
     "output_type": "display_data"
    }
   ],
   "source": [
    "#Grafico de la Duración de cada partida\n",
    "plt.figure(figsize=(8, 5))\n",
    "plt.bar(range(len(duration)), duration, color='skyblue')\n",
    "plt.xlabel('Partida')\n",
    "plt.ylabel('Duración de partida (ms)')\n",
    "plt.title('Duración de partida por partida')\n",
    "plt.xticks(range(len(duration)), range(1, len(duration) + 1))\n",
    "plt.grid(True)\n",
    "plt.show()"
   ]
  },
  {
   "cell_type": "code",
   "execution_count": 55,
   "id": "34ebd18b",
   "metadata": {},
   "outputs": [
    {
     "data": {
      "image/png": "[encoded data removed]",
      "text/plain": [
       "<Figure size 800x500 with 1 Axes>"
      ]
     },
     "metadata": {},
     "output_type": "display_data"
    }
   ],
   "source": [
    "plt.figure(figsize=(8, 5))\n",
    "plt.bar(range(len(death_list)), death_list, color='salmon')\n",
    "plt.xlabel('Partida')\n",
    "plt.ylabel('Muertes')\n",
    "plt.title('Muertes por partida')\n",
    "plt.xticks(range(len(death_list)), range(1, len(death_list) + 1))\n",
    "plt.grid(True)\n",
    "plt.show()"
   ]
  },
  {
   "cell_type": "code",
   "execution_count": 56,
   "id": "a5813a26",
   "metadata": {},
   "outputs": [
    {
     "data": {
      "image/png": "[encoded data removed]",
      "text/plain": [
       "<Figure size 800x500 with 1 Axes>"
      ]
     },
     "metadata": {},
     "output_type": "display_data"
    }
   ],
   "source": [
    "plt.figure(figsize=(8, 5))\n",
    "plt.bar(range(len(shield_list)), shield_list, color='lightgreen')\n",
    "plt.xlabel('Partida')\n",
    "plt.ylabel('Pérdida de escudo')\n",
    "plt.title('Pérdida de escudo por partida')\n",
    "plt.xticks(range(len(shield_list)), range(1, len(shield_list) + 1))\n",
    "plt.grid(True)\n",
    "plt.show()"
   ]
  },
  {
   "cell_type": "markdown",
   "id": "ff6e4aa4-86a7-4530-9588-5c5233eac11c",
   "metadata": {},
   "source": [
    "### Medias"
   ]
  },
  {
   "cell_type": "markdown",
   "id": "2b2d5dfb-62c8-4ec7-af52-c80234587968",
   "metadata": {},
   "source": [
    "Esto implica todas las sesiones y partidas, es la media total"
   ]
  },
  {
   "cell_type": "code",
   "execution_count": 57,
   "id": "f9a81922-4695-4cc2-ac0e-d9647ffcdcf8",
   "metadata": {},
   "outputs": [
    {
     "name": "stdout",
     "output_type": "stream",
     "text": [
      "\n",
      "Media de muertes: 2.0\n",
      "Media de perdidas de escudo: 5.0\n",
      "Media de la duracion de las partidas: 145.0\n"
     ]
    }
   ],
   "source": [
    "mean = np.mean(death_list)\n",
    "print(\"\\nMedia de muertes:\", round(mean, 2))\n",
    "mean = np.mean(shield_list)\n",
    "print(\"Media de perdidas de escudo:\", round(mean, 2)) \n",
    "mean = np.mean(duration)\n",
    "print(\"Media de la duracion de las partidas:\", round(mean, 2))  \n"
   ]
  }
 ],
 "metadata": {
  "kernelspec": {
   "display_name": "Python 3 (ipykernel)",
   "language": "python",
   "name": "python3"
  },
  "language_info": {
   "codemirror_mode": {
    "name": "ipython",
    "version": 3
   },
   "file_extension": ".py",
   "mimetype": "text/x-python",
   "name": "python",
   "nbconvert_exporter": "python",
   "pygments_lexer": "ipython3",
   "version": "3.11.5"
  }
 },
 "nbformat": 4,
 "nbformat_minor": 5
}
